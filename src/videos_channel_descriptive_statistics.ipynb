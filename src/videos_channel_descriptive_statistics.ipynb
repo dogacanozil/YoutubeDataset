{
 "cells": [
  {
   "cell_type": "markdown",
   "metadata": {},
   "source": [
    "# Descriptive Statistics Channels"
   ]
  },
  {
   "cell_type": "code",
   "execution_count": 2,
   "metadata": {},
   "outputs": [
    {
     "name": "stderr",
     "output_type": "stream",
     "text": [
      "/var/folders/mx/qyzv6w1s6vvfbglqfp09p6240000gq/T/ipykernel_54097/3360548993.py:2: DeprecationWarning: \n",
      "Pyarrow will become a required dependency of pandas in the next major release of pandas (pandas 3.0),\n",
      "(to allow more performant data types, such as the Arrow string type, and better interoperability with other libraries)\n",
      "but was not found to be installed on your system.\n",
      "If this would cause problems for you,\n",
      "please provide us feedback at https://github.com/pandas-dev/pandas/issues/54466\n",
      "        \n",
      "  import pandas as pd\n"
     ]
    }
   ],
   "source": [
    "import os\n",
    "import pandas as pd\n",
    "import gzip\n",
    "import matplotlib.pyplot as plt\n",
    "import numpy as np\n",
    "import seaborn as sns"
   ]
  },
  {
   "cell_type": "code",
   "execution_count": 3,
   "metadata": {},
   "outputs": [],
   "source": [
    "# folder_path = 'dataset/output_videos_channels_dataset'\n",
    "# csv_files = [os.path.join(folder_path, file) for file in os.listdir(folder_path) if file.endswith('.csv.gz')]\n",
    "# df_list = []\n",
    "# for file in csv_files:\n",
    "#     df = pd.read_csv(file, compression='gzip')\n",
    "#     df_list.append(df)\n",
    "# merged_df = pd.concat(df_list, ignore_index=True)\n",
    "# output_file = 'dataset/output_videos_channels_dataset/merged_videos_channels_output.csv.gz'\n",
    "# merged_df.to_csv(output_file, index=False, compression='gzip')\n",
    "# print(f\"Merged file saved as {output_file}\")\n"
   ]
  },
  {
   "cell_type": "code",
   "execution_count": 4,
   "metadata": {},
   "outputs": [
    {
     "data": {
      "text/plain": [
       "channel_id             313569\n",
       "video_id               313569\n",
       "video_title            313568\n",
       "video_length           313568\n",
       "video_description      255846\n",
       "video_thumbnail_url    313569\n",
       "video_views_count      313489\n",
       "video_publish_date     313489\n",
       "date_of_capture        313569\n",
       "dtype: int64"
      ]
     },
     "execution_count": 4,
     "metadata": {},
     "output_type": "execute_result"
    }
   ],
   "source": [
    "validate_df = pd.read_csv('dataset/output_videos_channels_dataset/videos_from_980000_until_990000_channels.csv.gz', compression='gzip')\n",
    "validate_df.count()"
   ]
  },
  {
   "cell_type": "code",
   "execution_count": 7,
   "metadata": {},
   "outputs": [
    {
     "data": {
      "text/plain": [
       "channel_id             object\n",
       "video_id               object\n",
       "video_title            object\n",
       "video_length           object\n",
       "video_description      object\n",
       "video_thumbnail_url    object\n",
       "video_views_count      object\n",
       "video_publish_date     object\n",
       "date_of_capture        object\n",
       "dtype: object"
      ]
     },
     "execution_count": 7,
     "metadata": {},
     "output_type": "execute_result"
    }
   ],
   "source": [
    "dataset_path = os.path.abspath(os.path.join(os.getcwd(), 'dataset', 'output_videos_channels_dataset', 'merged_videos_channels_output.csv.gz'))\n",
    "channels_dataset_df = pd.read_csv(dataset_path, compression='gzip', engine='python')\n",
    "channels_dataset_df.dtypes"
   ]
  },
  {
   "cell_type": "code",
   "execution_count": 9,
   "metadata": {},
   "outputs": [
    {
     "data": {
      "text/plain": [
       "channel_id             35938268\n",
       "video_id               35575241\n",
       "video_title            35575011\n",
       "video_length           35574433\n",
       "video_description      30629599\n",
       "video_thumbnail_url    35002281\n",
       "video_views_count      34991394\n",
       "video_publish_date     34991867\n",
       "date_of_capture        35010807\n",
       "dtype: int64"
      ]
     },
     "execution_count": 9,
     "metadata": {},
     "output_type": "execute_result"
    }
   ],
   "source": [
    "channels_dataset_df.count()"
   ]
  },
  {
   "cell_type": "code",
   "execution_count": 8,
   "metadata": {},
   "outputs": [
    {
     "name": "stdout",
     "output_type": "stream",
     "text": [
      "channel_id                                      UCmyh_vlEbxyXIP0vrxb6wSA\n",
      "video_id                                                     OCT6dsR3PFM\n",
      "video_title            Work Out With Conor McGregor in the McGregor F...\n",
      "video_length                                                        30.0\n",
      "video_description      Conor dropped by the FAST studio to record a v...\n",
      "video_thumbnail_url    https://i.ytimg.com/vi/OCT6dsR3PFM/hqdefault.j...\n",
      "video_views_count                                                29509.0\n",
      "video_publish_date                                           2 years ago\n",
      "date_of_capture                               2024-10-03 03:29:02.560504\n",
      "Name: 3, dtype: object\n"
     ]
    }
   ],
   "source": [
    "index_position = 3\n",
    "record = channels_dataset_df.iloc[index_position]\n",
    "print(record)"
   ]
  },
  {
   "cell_type": "code",
   "execution_count": 10,
   "metadata": {},
   "outputs": [
    {
     "name": "stdout",
     "output_type": "stream",
     "text": [
      "channel_id                                      UCPy2TZVSD3oau5nsXDIRgSg\n",
      "video_id                                                     1SXzu5QhtbE\n",
      "video_title            PINTURA LAVANDERIA E COZINHA | COMO FAZER tint...\n",
      "video_length                                                       210.0\n",
      "video_description      OI GENTEE!! No vídeo de hoje pintamos a cozinh...\n",
      "video_thumbnail_url    https://i.ytimg.com/vi/1SXzu5QhtbE/hqdefault.j...\n",
      "video_views_count                                                  338.0\n",
      "video_publish_date                                            1 year ago\n",
      "date_of_capture                               2024-10-09 17:55:40.231069\n",
      "Name: 28000000, dtype: object\n"
     ]
    }
   ],
   "source": [
    "index_position = 28000000\n",
    "record = channels_dataset_df.iloc[index_position]\n",
    "print(record)"
   ]
  },
  {
   "cell_type": "markdown",
   "metadata": {},
   "source": [
    "## How many of the records with active status & inactive status"
   ]
  },
  {
   "cell_type": "code",
   "execution_count": 11,
   "metadata": {},
   "outputs": [
    {
     "data": {
      "text/plain": [
       "35938268"
      ]
     },
     "execution_count": 11,
     "metadata": {},
     "output_type": "execute_result"
    },
    {
     "ename": "",
     "evalue": "",
     "output_type": "error",
     "traceback": [
      "\u001b[1;31mThe Kernel crashed while executing code in the current cell or a previous cell. \n",
      "\u001b[1;31mPlease review the code in the cell(s) to identify a possible cause of the failure. \n",
      "\u001b[1;31mClick <a href='https://aka.ms/vscodeJupyterKernelCrash'>here</a> for more info. \n",
      "\u001b[1;31mView Jupyter <a href='command:jupyter.viewOutput'>log</a> for further details."
     ]
    }
   ],
   "source": [
    "not_none_video_df = channels_dataset_df[channels_dataset_df.notnull()]\n",
    "active_count = int(not_none_video_df[\"channel_id\"].count())\n",
    "active_count"
   ]
  },
  {
   "cell_type": "code",
   "execution_count": null,
   "metadata": {},
   "outputs": [],
   "source": [
    "none_video_df = channels_dataset_df[channels_dataset_df.isnull()]\n",
    "inactive_count = int(none_video_df[\"channel_id\"].count())\n",
    "inactive_count"
   ]
  },
  {
   "cell_type": "code",
   "execution_count": null,
   "metadata": {},
   "outputs": [],
   "source": [
    "labels = ['Active', 'Inactive']\n",
    "sizes = [active_count, inactive_count]\n",
    "colors = ['green','red']\n",
    "plt.figure(figsize=(5, 5))\n",
    "plt.pie(sizes, labels=labels, colors=colors, autopct='%1.1f%%', startangle=90)\n",
    "plt.axis('equal')\n",
    "plt.title('Active vs Inactive Channels', fontsize=14, fontweight='bold', pad=20)\n",
    "plt.legend(title=\"isActive\", loc=\"upper left\")\n",
    "plt.show()\n"
   ]
  },
  {
   "cell_type": "markdown",
   "metadata": {},
   "source": [
    "## Numerical Stats"
   ]
  },
  {
   "cell_type": "markdown",
   "metadata": {},
   "source": [
    "### Video Length Stats"
   ]
  },
  {
   "cell_type": "code",
   "execution_count": null,
   "metadata": {},
   "outputs": [],
   "source": [
    "video_length_stats = not_none_video_df['video_length'].describe()\n",
    "print(video_length_stats)\n"
   ]
  },
  {
   "cell_type": "code",
   "execution_count": null,
   "metadata": {},
   "outputs": [],
   "source": [
    "not_none_video_df['log_video_length'] = not_none_video_df['video_length'].apply(lambda x: np.log1p(x))\n",
    "plt.figure(figsize=(10,6))\n",
    "sns.histplot(not_none_video_df['log_video_length'], bins=30, kde=True, color='blue')\n",
    "log_mean = not_none_video_df['log_video_length'].mean()\n",
    "log_median = not_none_video_df['log_video_length'].median()\n",
    "plt.axvline(log_mean, color='red', linestyle='--', linewidth=2, label=f'Log Mean: {log_mean:.2f}')\n",
    "plt.axvline(log_median, color='green', linestyle='--', linewidth=2, label=f'Log Median: {log_median:.2f}')\n",
    "plt.title('Log-Scaled Distribution of Video Length', fontsize=16)\n",
    "plt.xlabel('Log(Number of Videos)', fontsize=12)\n",
    "plt.ylabel('Frequency', fontsize=12)\n",
    "plt.legend()\n",
    "plt.show()\n"
   ]
  },
  {
   "cell_type": "markdown",
   "metadata": {},
   "source": [
    "### View Count Stats"
   ]
  },
  {
   "cell_type": "code",
   "execution_count": null,
   "metadata": {},
   "outputs": [],
   "source": [
    "video_views_count_stats = not_none_video_df['video_views_count'].describe()\n",
    "print(video_views_count_stats)"
   ]
  },
  {
   "cell_type": "code",
   "execution_count": null,
   "metadata": {},
   "outputs": [],
   "source": [
    "not_none_video_df['log_video_views_count'] = not_none_video_df['video_views_count'].apply(lambda x: np.log1p(x))\n",
    "plt.figure(figsize=(10,6))\n",
    "sns.histplot(not_none_video_df['log_video_views_count'], bins=30, kde=True, color='blue')\n",
    "log_mean = not_none_video_df['log_video_views_count'].mean()\n",
    "log_median = not_none_video_df['log_video_views_count'].median()\n",
    "plt.axvline(log_mean, color='red', linestyle='--', linewidth=2, label=f'Log Mean: {log_mean:.2f}')\n",
    "plt.axvline(log_median, color='green', linestyle='--', linewidth=2, label=f'Log Median: {log_median:.2f}')\n",
    "plt.title('Log-Scaled Distribution of Video Views Counts', fontsize=16)\n",
    "plt.xlabel('Log(Number of Videos)', fontsize=12)\n",
    "plt.ylabel('Frequency', fontsize=12)\n",
    "plt.legend()\n",
    "plt.show()\n"
   ]
  }
 ],
 "metadata": {
  "kernelspec": {
   "display_name": "Python 3",
   "language": "python",
   "name": "python3"
  },
  "language_info": {
   "codemirror_mode": {
    "name": "ipython",
    "version": 3
   },
   "file_extension": ".py",
   "mimetype": "text/x-python",
   "name": "python",
   "nbconvert_exporter": "python",
   "pygments_lexer": "ipython3",
   "version": "3.11.4"
  },
  "orig_nbformat": 4
 },
 "nbformat": 4,
 "nbformat_minor": 2
}
