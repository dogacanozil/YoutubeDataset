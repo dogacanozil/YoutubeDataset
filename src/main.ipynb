{
 "cells": [
  {
   "cell_type": "markdown",
   "metadata": {},
   "source": [
    "# Showcase Notebook"
   ]
  },
  {
   "cell_type": "markdown",
   "metadata": {},
   "source": [
    "## Import modules"
   ]
  },
  {
   "cell_type": "code",
   "execution_count": 1,
   "metadata": {},
   "outputs": [],
   "source": [
    "import utils.channel_utils as cu\n",
    "import utils.video_utils as vu\n",
    "import utils.write_utils as wu\n",
    "import utils.legacy_utils as lu\n",
    "import utils.shorts_utils as su\n",
    "\n",
    "import pandas as pd\n",
    "import ssl\n",
    "ssl._create_default_https_context = ssl._create_unverified_context"
   ]
  },
  {
   "cell_type": "markdown",
   "metadata": {},
   "source": [
    "### Import Channel Ids"
   ]
  },
  {
   "cell_type": "code",
   "execution_count": 2,
   "metadata": {},
   "outputs": [],
   "source": [
    "channel_ids = pd.read_csv('dataset/input_dataset/channel_ids.csv.gz', compression='gzip')\n",
    "channel_ids.count()\n",
    "channel_ids_as_list = channel_ids['channel_id'].to_list()"
   ]
  },
  {
   "cell_type": "markdown",
   "metadata": {},
   "source": [
    "## Channels"
   ]
  },
  {
   "cell_type": "markdown",
   "metadata": {},
   "source": [
    "### Show an example for one channel id"
   ]
  },
  {
   "cell_type": "code",
   "execution_count": null,
   "metadata": {},
   "outputs": [],
   "source": [
    "first_channel_id = channel_ids_as_list[3]\n",
    "first_channel_id"
   ]
  },
  {
   "cell_type": "code",
   "execution_count": null,
   "metadata": {},
   "outputs": [],
   "source": [
    "channel_json_1 = lu.create_channel_record_as_json_by_channel_id(first_channel_id)\n",
    "channel_json_1"
   ]
  },
  {
   "cell_type": "code",
   "execution_count": null,
   "metadata": {},
   "outputs": [],
   "source": [
    "channel_json_1[\"channel_id\"]"
   ]
  },
  {
   "cell_type": "markdown",
   "metadata": {},
   "source": [
    "### Show an example "
   ]
  },
  {
   "cell_type": "code",
   "execution_count": null,
   "metadata": {},
   "outputs": [],
   "source": [
    "#Get first specified ids from the id list\n",
    "sample_channel_subset_ids = channel_ids_as_list[0:300]\n"
   ]
  },
  {
   "cell_type": "code",
   "execution_count": null,
   "metadata": {},
   "outputs": [],
   "source": [
    "cu.channels_fetch_and_write_to_csv_gzipped(sample_channel_subset_ids, output_address= \"dataset/output_dataset/\")"
   ]
  },
  {
   "cell_type": "code",
   "execution_count": null,
   "metadata": {},
   "outputs": [],
   "source": [
    "channels_dataset = pd.read_csv('dataset/output_dataset/100_channels_list.csv.gz', compression='gzip')\n",
    "channels_dataset.count()"
   ]
  },
  {
   "cell_type": "code",
   "execution_count": null,
   "metadata": {},
   "outputs": [],
   "source": [
    "channels_dataset[[\"channel_id\", \"channel_video_count\"]]"
   ]
  },
  {
   "cell_type": "code",
   "execution_count": null,
   "metadata": {},
   "outputs": [],
   "source": [
    "channels_dataset_as_list = channels_dataset['channel_id'].to_list()\n",
    "channels_dataset_as_list"
   ]
  },
  {
   "cell_type": "markdown",
   "metadata": {},
   "source": [
    "### Continue from index"
   ]
  },
  {
   "cell_type": "code",
   "execution_count": null,
   "metadata": {},
   "outputs": [],
   "source": [
    "# sample_channel_subset_ids = channel_ids_as_list[0:200]\n",
    "# cu.channels_fetch_and_write_to_csv_gzipped_continue_from_index(sample_channel_subset_ids, index=100, output_address= \"dataset/output_dataset/\", output_file_name =\"100_channels_list.csv.gz\")"
   ]
  },
  {
   "cell_type": "markdown",
   "metadata": {},
   "source": [
    "## Videos"
   ]
  },
  {
   "cell_type": "code",
   "execution_count": 3,
   "metadata": {},
   "outputs": [
    {
     "data": {
      "text/plain": [
       "channel_id                  300\n",
       "channel_url                 300\n",
       "channel_name                300\n",
       "channel_description         300\n",
       "channel_links               300\n",
       "channel_subscriber_count    300\n",
       "date_of_capture             300\n",
       "dtype: int64"
      ]
     },
     "execution_count": 3,
     "metadata": {},
     "output_type": "execute_result"
    }
   ],
   "source": [
    "trial_df = pd.read_csv('dataset/output_dataset/300_channels_list.csv.gz', compression='gzip')\n",
    "trial_df.count()\n"
   ]
  },
  {
   "cell_type": "code",
   "execution_count": 4,
   "metadata": {},
   "outputs": [
    {
     "data": {
      "text/html": [
       "<div>\n",
       "<style scoped>\n",
       "    .dataframe tbody tr th:only-of-type {\n",
       "        vertical-align: middle;\n",
       "    }\n",
       "\n",
       "    .dataframe tbody tr th {\n",
       "        vertical-align: top;\n",
       "    }\n",
       "\n",
       "    .dataframe thead th {\n",
       "        text-align: right;\n",
       "    }\n",
       "</style>\n",
       "<table border=\"1\" class=\"dataframe\">\n",
       "  <thead>\n",
       "    <tr style=\"text-align: right;\">\n",
       "      <th></th>\n",
       "      <th>channel_id</th>\n",
       "      <th>channel_url</th>\n",
       "      <th>channel_name</th>\n",
       "      <th>channel_description</th>\n",
       "      <th>channel_links</th>\n",
       "      <th>channel_subscriber_count</th>\n",
       "      <th>date_of_capture</th>\n",
       "    </tr>\n",
       "  </thead>\n",
       "  <tbody>\n",
       "    <tr>\n",
       "      <th>0</th>\n",
       "      <td>UCYt67-MBjYF5Y8RcEAjtq1g</td>\n",
       "      <td>https://www.youtube.com/channel/UCYt67-MBjYF5Y...</td>\n",
       "      <td>Jeyson</td>\n",
       "      <td>Jeyson official channel.Panamanian artist, sin...</td>\n",
       "      <td>['Instagram: instagram.com/matalojeyson', 'Spo...</td>\n",
       "      <td>38.2K</td>\n",
       "      <td>2024-06-12 22:39:42.234659</td>\n",
       "    </tr>\n",
       "    <tr>\n",
       "      <th>1</th>\n",
       "      <td>UCYig0vJRD03a6lkqWrbP8xg</td>\n",
       "      <td>https://www.youtube.com/channel/UCYig0vJRD03a6...</td>\n",
       "      <td>Saeid 2.0</td>\n",
       "      <td>Assalamu alaikumWelcome to saeid 2.0Subscribe...</td>\n",
       "      <td>['Facebook : facebook.com/saeidhossan05']</td>\n",
       "      <td>308</td>\n",
       "      <td>2024-06-12 22:39:43.509758</td>\n",
       "    </tr>\n",
       "    <tr>\n",
       "      <th>2</th>\n",
       "      <td>UCOTXKyzvDOqDGDKhuScHOag</td>\n",
       "      <td>https://www.youtube.com/channel/UCOTXKyzvDOqDG...</td>\n",
       "      <td>Nina Maya</td>\n",
       "      <td>Vem dançar com a Cia NinaMaya, Inscreva-se no ...</td>\n",
       "      <td>['Nina Maya: instagram.com/ninnamaya', 'Nina M...</td>\n",
       "      <td>511K</td>\n",
       "      <td>2024-06-12 22:39:44.696751</td>\n",
       "    </tr>\n",
       "    <tr>\n",
       "      <th>3</th>\n",
       "      <td>UC4bEEVSvrNu0i7FQrCMNthw</td>\n",
       "      <td>https://www.youtube.com/channel/UC4bEEVSvrNu0i...</td>\n",
       "      <td>MUNDO LIGA</td>\n",
       "      <td>Liga y futbol!!!!</td>\n",
       "      <td>[]</td>\n",
       "      <td>30.5K</td>\n",
       "      <td>2024-06-12 22:39:45.860581</td>\n",
       "    </tr>\n",
       "    <tr>\n",
       "      <th>4</th>\n",
       "      <td>UCgia4xeNJr_VfyNYSlCmWjg</td>\n",
       "      <td>This channel does not exist.</td>\n",
       "      <td>This channel does not exist.</td>\n",
       "      <td>This channel does not exist.</td>\n",
       "      <td>This channel does not exist.</td>\n",
       "      <td>This channel does not exist.</td>\n",
       "      <td>This channel does not exist.</td>\n",
       "    </tr>\n",
       "    <tr>\n",
       "      <th>5</th>\n",
       "      <td>UC_hK9fOxyy_TM8FJGXIyG8Q</td>\n",
       "      <td>https://www.youtube.com/channel/UC_hK9fOxyy_TM...</td>\n",
       "      <td>Dhar Mann Studios</td>\n",
       "      <td>VOTE FOR US! Kids&amp;#39; Choice Awards ⬇️Dubbed ...</td>\n",
       "      <td>['VOTE FOR US!: at.nick.com/3RhI7gq', 'Faceboo...</td>\n",
       "      <td>21.9M</td>\n",
       "      <td>2024-06-12 22:39:47.091027</td>\n",
       "    </tr>\n",
       "    <tr>\n",
       "      <th>6</th>\n",
       "      <td>UCvIOoAY_G_7jGNjIQweaUMg</td>\n",
       "      <td>https://www.youtube.com/channel/UCvIOoAY_G_7jG...</td>\n",
       "      <td>Agnes Martins</td>\n",
       "      <td>💄Make social e artística - desafios e bastidores</td>\n",
       "      <td>['IG: instagram.com/agnesmarttins', 'FB: faceb...</td>\n",
       "      <td>533K</td>\n",
       "      <td>2024-06-12 22:39:48.412503</td>\n",
       "    </tr>\n",
       "    <tr>\n",
       "      <th>7</th>\n",
       "      <td>UCS2y06AThwWxTwCnRTBLcig</td>\n",
       "      <td>https://www.youtube.com/channel/UCS2y06AThwWxT...</td>\n",
       "      <td>CVM Film</td>\n",
       "      <td>หนังสั้น สะท้อนสังคม ละครสอนใจ ต้องไม่พลาดค่ะ</td>\n",
       "      <td>[]</td>\n",
       "      <td>510K</td>\n",
       "      <td>2024-06-12 22:39:49.759799</td>\n",
       "    </tr>\n",
       "    <tr>\n",
       "      <th>8</th>\n",
       "      <td>UCEI44xNfQmAukxMf1kW8d5g</td>\n",
       "      <td>https://www.youtube.com/channel/UCEI44xNfQmAuk...</td>\n",
       "      <td>TOGURO</td>\n",
       "      <td>EMAIL PARA CONTATO toguro@mansaomaromba.com</td>\n",
       "      <td>['CANAL TOGURO: youtube.com/channel/UC2g_3KMUl...</td>\n",
       "      <td>4.83M</td>\n",
       "      <td>2024-06-12 22:39:50.892723</td>\n",
       "    </tr>\n",
       "    <tr>\n",
       "      <th>9</th>\n",
       "      <td>UCg8J10XW9WOKsGAUxUg5PAg</td>\n",
       "      <td>https://www.youtube.com/channel/UCg8J10XW9WOKs...</td>\n",
       "      <td>Piano Meister</td>\n",
       "      <td>ピアノを練習するための動画です。This video is for practicing t...</td>\n",
       "      <td>[]</td>\n",
       "      <td>759</td>\n",
       "      <td>2024-06-12 22:39:52.094163</td>\n",
       "    </tr>\n",
       "  </tbody>\n",
       "</table>\n",
       "</div>"
      ],
      "text/plain": [
       "                 channel_id  \\\n",
       "0  UCYt67-MBjYF5Y8RcEAjtq1g   \n",
       "1  UCYig0vJRD03a6lkqWrbP8xg   \n",
       "2  UCOTXKyzvDOqDGDKhuScHOag   \n",
       "3  UC4bEEVSvrNu0i7FQrCMNthw   \n",
       "4  UCgia4xeNJr_VfyNYSlCmWjg   \n",
       "5  UC_hK9fOxyy_TM8FJGXIyG8Q   \n",
       "6  UCvIOoAY_G_7jGNjIQweaUMg   \n",
       "7  UCS2y06AThwWxTwCnRTBLcig   \n",
       "8  UCEI44xNfQmAukxMf1kW8d5g   \n",
       "9  UCg8J10XW9WOKsGAUxUg5PAg   \n",
       "\n",
       "                                         channel_url  \\\n",
       "0  https://www.youtube.com/channel/UCYt67-MBjYF5Y...   \n",
       "1  https://www.youtube.com/channel/UCYig0vJRD03a6...   \n",
       "2  https://www.youtube.com/channel/UCOTXKyzvDOqDG...   \n",
       "3  https://www.youtube.com/channel/UC4bEEVSvrNu0i...   \n",
       "4                       This channel does not exist.   \n",
       "5  https://www.youtube.com/channel/UC_hK9fOxyy_TM...   \n",
       "6  https://www.youtube.com/channel/UCvIOoAY_G_7jG...   \n",
       "7  https://www.youtube.com/channel/UCS2y06AThwWxT...   \n",
       "8  https://www.youtube.com/channel/UCEI44xNfQmAuk...   \n",
       "9  https://www.youtube.com/channel/UCg8J10XW9WOKs...   \n",
       "\n",
       "                   channel_name  \\\n",
       "0                        Jeyson   \n",
       "1                     Saeid 2.0   \n",
       "2                     Nina Maya   \n",
       "3                    MUNDO LIGA   \n",
       "4  This channel does not exist.   \n",
       "5             Dhar Mann Studios   \n",
       "6                 Agnes Martins   \n",
       "7                      CVM Film   \n",
       "8                        TOGURO   \n",
       "9                 Piano Meister   \n",
       "\n",
       "                                 channel_description  \\\n",
       "0  Jeyson official channel.Panamanian artist, sin...   \n",
       "1   Assalamu alaikumWelcome to saeid 2.0Subscribe...   \n",
       "2  Vem dançar com a Cia NinaMaya, Inscreva-se no ...   \n",
       "3                                  Liga y futbol!!!!   \n",
       "4                       This channel does not exist.   \n",
       "5  VOTE FOR US! Kids&#39; Choice Awards ⬇️Dubbed ...   \n",
       "6   💄Make social e artística - desafios e bastidores   \n",
       "7      หนังสั้น สะท้อนสังคม ละครสอนใจ ต้องไม่พลาดค่ะ   \n",
       "8        EMAIL PARA CONTATO toguro@mansaomaromba.com   \n",
       "9  ピアノを練習するための動画です。This video is for practicing t...   \n",
       "\n",
       "                                       channel_links  \\\n",
       "0  ['Instagram: instagram.com/matalojeyson', 'Spo...   \n",
       "1          ['Facebook : facebook.com/saeidhossan05']   \n",
       "2  ['Nina Maya: instagram.com/ninnamaya', 'Nina M...   \n",
       "3                                                 []   \n",
       "4                       This channel does not exist.   \n",
       "5  ['VOTE FOR US!: at.nick.com/3RhI7gq', 'Faceboo...   \n",
       "6  ['IG: instagram.com/agnesmarttins', 'FB: faceb...   \n",
       "7                                                 []   \n",
       "8  ['CANAL TOGURO: youtube.com/channel/UC2g_3KMUl...   \n",
       "9                                                 []   \n",
       "\n",
       "       channel_subscriber_count               date_of_capture  \n",
       "0                         38.2K    2024-06-12 22:39:42.234659  \n",
       "1                           308    2024-06-12 22:39:43.509758  \n",
       "2                          511K    2024-06-12 22:39:44.696751  \n",
       "3                         30.5K    2024-06-12 22:39:45.860581  \n",
       "4  This channel does not exist.  This channel does not exist.  \n",
       "5                         21.9M    2024-06-12 22:39:47.091027  \n",
       "6                          533K    2024-06-12 22:39:48.412503  \n",
       "7                          510K    2024-06-12 22:39:49.759799  \n",
       "8                         4.83M    2024-06-12 22:39:50.892723  \n",
       "9                           759    2024-06-12 22:39:52.094163  "
      ]
     },
     "execution_count": 4,
     "metadata": {},
     "output_type": "execute_result"
    }
   ],
   "source": [
    "test_videos_df = trial_df[0:10]\n",
    "test_videos_df"
   ]
  },
  {
   "cell_type": "code",
   "execution_count": 5,
   "metadata": {},
   "outputs": [],
   "source": [
    "channel_ids_df = test_videos_df\n",
    "threshold= 120"
   ]
  },
  {
   "cell_type": "code",
   "execution_count": null,
   "metadata": {},
   "outputs": [],
   "source": [
    "# channel_video_list_sampled = vu.create_channel_video_relationship_list_limited_videos(test_videos_df, threshold)\n",
    "# channel_video_list_sampled\n",
    "# wu.write_list_to_csv(channel_video_list_sampled, \"channel_video_list_sampled_10_channels_500_videos\")\n",
    "# wu.write_list_to_csv_zipped(channel_video_list_sampled, \"channel_video_list_sampled_10_channels_500_videos\")"
   ]
  },
  {
   "cell_type": "code",
   "execution_count": 6,
   "metadata": {},
   "outputs": [],
   "source": [
    "channel_video_list_sampled = vu.create_channel_video_relationship_list_limited_videos(test_videos_df, threshold)\n",
    "channel_video_list_sampled\n",
    "wu.write_list_to_csv(channel_video_list_sampled, \"channel_video_list_sampled_10_channels_120_videos\")\n",
    "wu.write_list_to_csv_zipped(channel_video_list_sampled, \"channel_video_list_sampled_10_channels_120_videos\")"
   ]
  },
  {
   "cell_type": "code",
   "execution_count": 7,
   "metadata": {},
   "outputs": [],
   "source": [
    "channel_shorts_list_sampled = su.create_channel_shorts_relationship_list_limited_shorts(test_videos_df, threshold)\n",
    "channel_shorts_list_sampled\n",
    "wu.write_list_to_csv(channel_shorts_list_sampled, \"channel_shorts_list_sampled_10_channels_120_videos\")\n",
    "wu.write_list_to_csv_zipped(channel_shorts_list_sampled, \"channel_shorts_list_sampled_10_channels_120_videos\")"
   ]
  },
  {
   "cell_type": "code",
   "execution_count": 11,
   "metadata": {},
   "outputs": [
    {
     "data": {
      "text/html": [
       "<div>\n",
       "<style scoped>\n",
       "    .dataframe tbody tr th:only-of-type {\n",
       "        vertical-align: middle;\n",
       "    }\n",
       "\n",
       "    .dataframe tbody tr th {\n",
       "        vertical-align: top;\n",
       "    }\n",
       "\n",
       "    .dataframe thead th {\n",
       "        text-align: right;\n",
       "    }\n",
       "</style>\n",
       "<table border=\"1\" class=\"dataframe\">\n",
       "  <thead>\n",
       "    <tr style=\"text-align: right;\">\n",
       "      <th></th>\n",
       "      <th>channel_id</th>\n",
       "      <th>video_id</th>\n",
       "    </tr>\n",
       "  </thead>\n",
       "  <tbody>\n",
       "    <tr>\n",
       "      <th>0</th>\n",
       "      <td>UCYt67-MBjYF5Y8RcEAjtq1g</td>\n",
       "      <td>E7PjJTBuyL4</td>\n",
       "    </tr>\n",
       "    <tr>\n",
       "      <th>1</th>\n",
       "      <td>UCYt67-MBjYF5Y8RcEAjtq1g</td>\n",
       "      <td>47phcA27M14</td>\n",
       "    </tr>\n",
       "    <tr>\n",
       "      <th>2</th>\n",
       "      <td>UCYt67-MBjYF5Y8RcEAjtq1g</td>\n",
       "      <td>7ppDL_kEyQs</td>\n",
       "    </tr>\n",
       "    <tr>\n",
       "      <th>3</th>\n",
       "      <td>UCYt67-MBjYF5Y8RcEAjtq1g</td>\n",
       "      <td>5vQ0aZHrS9M</td>\n",
       "    </tr>\n",
       "    <tr>\n",
       "      <th>4</th>\n",
       "      <td>UCYt67-MBjYF5Y8RcEAjtq1g</td>\n",
       "      <td>fSQY4r9E5gY</td>\n",
       "    </tr>\n",
       "    <tr>\n",
       "      <th>...</th>\n",
       "      <td>...</td>\n",
       "      <td>...</td>\n",
       "    </tr>\n",
       "    <tr>\n",
       "      <th>844</th>\n",
       "      <td>UCg8J10XW9WOKsGAUxUg5PAg</td>\n",
       "      <td>L0TOpiCTla4</td>\n",
       "    </tr>\n",
       "    <tr>\n",
       "      <th>845</th>\n",
       "      <td>UCg8J10XW9WOKsGAUxUg5PAg</td>\n",
       "      <td>lj2RfiY9UEM</td>\n",
       "    </tr>\n",
       "    <tr>\n",
       "      <th>846</th>\n",
       "      <td>UCg8J10XW9WOKsGAUxUg5PAg</td>\n",
       "      <td>9IJtIRvTMVw</td>\n",
       "    </tr>\n",
       "    <tr>\n",
       "      <th>847</th>\n",
       "      <td>UCg8J10XW9WOKsGAUxUg5PAg</td>\n",
       "      <td>S8Akv0KapRI</td>\n",
       "    </tr>\n",
       "    <tr>\n",
       "      <th>848</th>\n",
       "      <td>UCg8J10XW9WOKsGAUxUg5PAg</td>\n",
       "      <td>xQYxITAbA8w</td>\n",
       "    </tr>\n",
       "  </tbody>\n",
       "</table>\n",
       "<p>849 rows × 2 columns</p>\n",
       "</div>"
      ],
      "text/plain": [
       "                   channel_id     video_id\n",
       "0    UCYt67-MBjYF5Y8RcEAjtq1g  E7PjJTBuyL4\n",
       "1    UCYt67-MBjYF5Y8RcEAjtq1g  47phcA27M14\n",
       "2    UCYt67-MBjYF5Y8RcEAjtq1g  7ppDL_kEyQs\n",
       "3    UCYt67-MBjYF5Y8RcEAjtq1g  5vQ0aZHrS9M\n",
       "4    UCYt67-MBjYF5Y8RcEAjtq1g  fSQY4r9E5gY\n",
       "..                        ...          ...\n",
       "844  UCg8J10XW9WOKsGAUxUg5PAg  L0TOpiCTla4\n",
       "845  UCg8J10XW9WOKsGAUxUg5PAg  lj2RfiY9UEM\n",
       "846  UCg8J10XW9WOKsGAUxUg5PAg  9IJtIRvTMVw\n",
       "847  UCg8J10XW9WOKsGAUxUg5PAg  S8Akv0KapRI\n",
       "848  UCg8J10XW9WOKsGAUxUg5PAg  xQYxITAbA8w\n",
       "\n",
       "[849 rows x 2 columns]"
      ]
     },
     "execution_count": 11,
     "metadata": {},
     "output_type": "execute_result"
    }
   ],
   "source": [
    "trial_df = pd.read_csv('dataset/output_dataset/channel_video_list_sampled_10_channels_120_videos.csv.gz', compression='gzip', delimiter = '\\u0001')\n",
    "trial_df\n"
   ]
  },
  {
   "cell_type": "code",
   "execution_count": 9,
   "metadata": {},
   "outputs": [
    {
     "data": {
      "text/html": [
       "<div>\n",
       "<style scoped>\n",
       "    .dataframe tbody tr th:only-of-type {\n",
       "        vertical-align: middle;\n",
       "    }\n",
       "\n",
       "    .dataframe tbody tr th {\n",
       "        vertical-align: top;\n",
       "    }\n",
       "\n",
       "    .dataframe thead th {\n",
       "        text-align: right;\n",
       "    }\n",
       "</style>\n",
       "<table border=\"1\" class=\"dataframe\">\n",
       "  <thead>\n",
       "    <tr style=\"text-align: right;\">\n",
       "      <th></th>\n",
       "      <th>channel_id</th>\n",
       "      <th>video_id</th>\n",
       "    </tr>\n",
       "  </thead>\n",
       "  <tbody>\n",
       "    <tr>\n",
       "      <th>0</th>\n",
       "      <td>UCYig0vJRD03a6lkqWrbP8xg</td>\n",
       "      <td>-hTW8lbJ38E</td>\n",
       "    </tr>\n",
       "    <tr>\n",
       "      <th>1</th>\n",
       "      <td>UCYig0vJRD03a6lkqWrbP8xg</td>\n",
       "      <td>YIRk-f_BHLg</td>\n",
       "    </tr>\n",
       "    <tr>\n",
       "      <th>2</th>\n",
       "      <td>UCYig0vJRD03a6lkqWrbP8xg</td>\n",
       "      <td>6gBtqEsZVKA</td>\n",
       "    </tr>\n",
       "    <tr>\n",
       "      <th>3</th>\n",
       "      <td>UCYig0vJRD03a6lkqWrbP8xg</td>\n",
       "      <td>JpOPMeC1cBM</td>\n",
       "    </tr>\n",
       "    <tr>\n",
       "      <th>4</th>\n",
       "      <td>UCYig0vJRD03a6lkqWrbP8xg</td>\n",
       "      <td>yTjJzIGU80g</td>\n",
       "    </tr>\n",
       "    <tr>\n",
       "      <th>...</th>\n",
       "      <td>...</td>\n",
       "      <td>...</td>\n",
       "    </tr>\n",
       "    <tr>\n",
       "      <th>622</th>\n",
       "      <td>UCg8J10XW9WOKsGAUxUg5PAg</td>\n",
       "      <td>DXIBC4bgXNM</td>\n",
       "    </tr>\n",
       "    <tr>\n",
       "      <th>623</th>\n",
       "      <td>UCg8J10XW9WOKsGAUxUg5PAg</td>\n",
       "      <td>HfH751Gpg0U</td>\n",
       "    </tr>\n",
       "    <tr>\n",
       "      <th>624</th>\n",
       "      <td>UCg8J10XW9WOKsGAUxUg5PAg</td>\n",
       "      <td>_ceVfOE7srk</td>\n",
       "    </tr>\n",
       "    <tr>\n",
       "      <th>625</th>\n",
       "      <td>UCg8J10XW9WOKsGAUxUg5PAg</td>\n",
       "      <td>l3nifCT6NXM</td>\n",
       "    </tr>\n",
       "    <tr>\n",
       "      <th>626</th>\n",
       "      <td>UCg8J10XW9WOKsGAUxUg5PAg</td>\n",
       "      <td>kGIZP79zCM0</td>\n",
       "    </tr>\n",
       "  </tbody>\n",
       "</table>\n",
       "<p>627 rows × 2 columns</p>\n",
       "</div>"
      ],
      "text/plain": [
       "                   channel_id     video_id\n",
       "0    UCYig0vJRD03a6lkqWrbP8xg  -hTW8lbJ38E\n",
       "1    UCYig0vJRD03a6lkqWrbP8xg  YIRk-f_BHLg\n",
       "2    UCYig0vJRD03a6lkqWrbP8xg  6gBtqEsZVKA\n",
       "3    UCYig0vJRD03a6lkqWrbP8xg  JpOPMeC1cBM\n",
       "4    UCYig0vJRD03a6lkqWrbP8xg  yTjJzIGU80g\n",
       "..                        ...          ...\n",
       "622  UCg8J10XW9WOKsGAUxUg5PAg  DXIBC4bgXNM\n",
       "623  UCg8J10XW9WOKsGAUxUg5PAg  HfH751Gpg0U\n",
       "624  UCg8J10XW9WOKsGAUxUg5PAg  _ceVfOE7srk\n",
       "625  UCg8J10XW9WOKsGAUxUg5PAg  l3nifCT6NXM\n",
       "626  UCg8J10XW9WOKsGAUxUg5PAg  kGIZP79zCM0\n",
       "\n",
       "[627 rows x 2 columns]"
      ]
     },
     "execution_count": 9,
     "metadata": {},
     "output_type": "execute_result"
    }
   ],
   "source": [
    "trial_df = pd.read_csv('dataset/output_dataset/channel_shorts_list_sampled_10_channels_120_videos.csv.gz', compression='gzip', delimiter = '\\u0001')\n",
    "trial_df\n"
   ]
  },
  {
   "cell_type": "code",
   "execution_count": null,
   "metadata": {},
   "outputs": [],
   "source": [
    "trial_df.count()"
   ]
  },
  {
   "cell_type": "code",
   "execution_count": null,
   "metadata": {},
   "outputs": [],
   "source": [
    "len(trial_df[\"video_id\"].unique())"
   ]
  },
  {
   "cell_type": "code",
   "execution_count": null,
   "metadata": {},
   "outputs": [],
   "source": [
    "#It is the \n",
    "# test_video_ids_list = test_videos_df[\"channel_id\"].to_list()\n",
    "# test_video_ids_list\n",
    "# channel_video_list = vu.create_channel_video_relationship_list(test_video_ids_list)\n",
    "# channel_video_list"
   ]
  }
 ],
 "metadata": {
  "kernelspec": {
   "display_name": "Python 3",
   "language": "python",
   "name": "python3"
  },
  "language_info": {
   "codemirror_mode": {
    "name": "ipython",
    "version": 3
   },
   "file_extension": ".py",
   "mimetype": "text/x-python",
   "name": "python",
   "nbconvert_exporter": "python",
   "pygments_lexer": "ipython3",
   "version": "3.11.4"
  }
 },
 "nbformat": 4,
 "nbformat_minor": 2
}
