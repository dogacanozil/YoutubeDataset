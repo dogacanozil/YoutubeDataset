{
 "cells": [
  {
   "cell_type": "markdown",
   "metadata": {},
   "source": [
    "# Showcase Notebook"
   ]
  },
  {
   "cell_type": "markdown",
   "metadata": {},
   "source": [
    "## Import modules"
   ]
  },
  {
   "cell_type": "code",
   "execution_count": 1,
   "metadata": {},
   "outputs": [],
   "source": [
    "import utils.channel_utils as cu\n",
    "import utils.video_utils as vu\n",
    "import utils.write_utils as wu\n",
    "import utils.legacy_utils as lu\n",
    "import utils.shorts_utils as su\n",
    "import utils.video_utils_revised as vur\n",
    "\n",
    "import pandas as pd\n",
    "import ssl\n",
    "ssl._create_default_https_context = ssl._create_unverified_context"
   ]
  },
  {
   "cell_type": "markdown",
   "metadata": {},
   "source": [
    "### Import Channel Ids"
   ]
  },
  {
   "cell_type": "code",
   "execution_count": 2,
   "metadata": {},
   "outputs": [],
   "source": [
    "channel_ids = pd.read_csv('dataset/input_dataset/channel_ids.csv.gz', compression='gzip')\n",
    "channel_ids.count()\n",
    "channel_ids_as_list = channel_ids['channel_id'].to_list()"
   ]
  },
  {
   "cell_type": "markdown",
   "metadata": {},
   "source": [
    "## Channels"
   ]
  },
  {
   "cell_type": "markdown",
   "metadata": {},
   "source": [
    "### Show an example for one channel id"
   ]
  },
  {
   "cell_type": "code",
   "execution_count": 3,
   "metadata": {},
   "outputs": [
    {
     "data": {
      "text/plain": [
       "'UC4bEEVSvrNu0i7FQrCMNthw'"
      ]
     },
     "execution_count": 3,
     "metadata": {},
     "output_type": "execute_result"
    }
   ],
   "source": [
    "first_channel_id = channel_ids_as_list[3]\n",
    "first_channel_id"
   ]
  },
  {
   "cell_type": "code",
   "execution_count": 4,
   "metadata": {},
   "outputs": [
    {
     "data": {
      "text/plain": [
       "{'channel_id': 'UC4bEEVSvrNu0i7FQrCMNthw',\n",
       " 'channel_url': 'This channel does not exist.',\n",
       " 'channel_name': 'This channel does not exist.',\n",
       " 'channel_description': 'This channel does not exist.',\n",
       " 'channel_links': 'This channel does not exist.',\n",
       " 'channel_subscriber_count': 'This channel does not exist.',\n",
       " 'date_of_capture': 'This channel does not exist.'}"
      ]
     },
     "execution_count": 4,
     "metadata": {},
     "output_type": "execute_result"
    }
   ],
   "source": [
    "channel_json_1 = lu.create_channel_record_as_json_by_channel_id(first_channel_id)\n",
    "channel_json_1"
   ]
  },
  {
   "cell_type": "code",
   "execution_count": 5,
   "metadata": {},
   "outputs": [
    {
     "data": {
      "text/plain": [
       "'UC4bEEVSvrNu0i7FQrCMNthw'"
      ]
     },
     "execution_count": 5,
     "metadata": {},
     "output_type": "execute_result"
    }
   ],
   "source": [
    "channel_json_1[\"channel_id\"]"
   ]
  },
  {
   "cell_type": "markdown",
   "metadata": {},
   "source": [
    "### Show an example "
   ]
  },
  {
   "cell_type": "code",
   "execution_count": 3,
   "metadata": {},
   "outputs": [],
   "source": [
    "#Get first specified ids from the id list\n",
    "sample_channel_subset_ids = channel_ids_as_list[0:10]\n"
   ]
  },
  {
   "cell_type": "code",
   "execution_count": 4,
   "metadata": {},
   "outputs": [
    {
     "name": "stderr",
     "output_type": "stream",
     "text": [
      "100%|██████████| 1000/1000 [00:48<00:00, 20.44it/s]\n"
     ]
    }
   ],
   "source": [
    "cu.channels_fetch_and_write_to_csv_gzipped(sample_channel_subset_ids, output_address= \"dataset/output_dataset/\")"
   ]
  },
  {
   "cell_type": "code",
   "execution_count": 5,
   "metadata": {},
   "outputs": [
    {
     "data": {
      "text/plain": [
       "channel_id                  5\n",
       "channel_name                5\n",
       "channel_description         5\n",
       "channel_links               5\n",
       "channel_video_count         5\n",
       "channel_view_count          5\n",
       "channel_subscriber_count    5\n",
       "channel_country             3\n",
       "channel_creation_date       5\n",
       "date_of_capture             5\n",
       "is_active                   5\n",
       "dtype: int64"
      ]
     },
     "execution_count": 5,
     "metadata": {},
     "output_type": "execute_result"
    }
   ],
   "source": [
    "channels_dataset = pd.read_csv('dataset/output_dataset/5_channels_list.csv.gz', compression='gzip')\n",
    "channels_dataset.count()"
   ]
  },
  {
   "cell_type": "code",
   "execution_count": 6,
   "metadata": {},
   "outputs": [
    {
     "data": {
      "text/plain": [
       "['UCYt67-MBjYF5Y8RcEAjtq1g',\n",
       " 'UCYig0vJRD03a6lkqWrbP8xg',\n",
       " 'UCOTXKyzvDOqDGDKhuScHOag',\n",
       " 'UC4bEEVSvrNu0i7FQrCMNthw',\n",
       " 'UCgia4xeNJr_VfyNYSlCmWjg']"
      ]
     },
     "execution_count": 6,
     "metadata": {},
     "output_type": "execute_result"
    }
   ],
   "source": [
    "channels_dataset_as_list = channels_dataset['channel_id'].to_list()\n",
    "channels_dataset_as_list"
   ]
  },
  {
   "cell_type": "markdown",
   "metadata": {},
   "source": [
    "### Continue from index"
   ]
  },
  {
   "cell_type": "code",
   "execution_count": 7,
   "metadata": {},
   "outputs": [],
   "source": [
    "# sample_channel_subset_ids = channel_ids_as_list[0:200]\n",
    "# cu.channels_fetch_and_write_to_csv_gzipped_continue_from_index(sample_channel_subset_ids, index=100, output_address= \"dataset/output_dataset/\", output_file_name =\"100_channels_list.csv.gz\")"
   ]
  },
  {
   "cell_type": "markdown",
   "metadata": {},
   "source": [
    "## Videos"
   ]
  },
  {
   "cell_type": "code",
   "execution_count": 8,
   "metadata": {},
   "outputs": [
    {
     "data": {
      "text/plain": [
       "channel_id                  5\n",
       "channel_name                5\n",
       "channel_description         5\n",
       "channel_links               5\n",
       "channel_video_count         5\n",
       "channel_view_count          5\n",
       "channel_subscriber_count    5\n",
       "channel_country             3\n",
       "channel_creation_date       5\n",
       "date_of_capture             5\n",
       "is_active                   5\n",
       "dtype: int64"
      ]
     },
     "execution_count": 8,
     "metadata": {},
     "output_type": "execute_result"
    }
   ],
   "source": [
    "trial_df = pd.read_csv('dataset/output_dataset/5_channels_list.csv.gz', compression='gzip')\n",
    "trial_df.count()\n"
   ]
  },
  {
   "cell_type": "code",
   "execution_count": 9,
   "metadata": {},
   "outputs": [
    {
     "data": {
      "text/html": [
       "<div>\n",
       "<style scoped>\n",
       "    .dataframe tbody tr th:only-of-type {\n",
       "        vertical-align: middle;\n",
       "    }\n",
       "\n",
       "    .dataframe tbody tr th {\n",
       "        vertical-align: top;\n",
       "    }\n",
       "\n",
       "    .dataframe thead th {\n",
       "        text-align: right;\n",
       "    }\n",
       "</style>\n",
       "<table border=\"1\" class=\"dataframe\">\n",
       "  <thead>\n",
       "    <tr style=\"text-align: right;\">\n",
       "      <th></th>\n",
       "      <th>channel_id</th>\n",
       "      <th>channel_name</th>\n",
       "      <th>channel_description</th>\n",
       "      <th>channel_links</th>\n",
       "      <th>channel_video_count</th>\n",
       "      <th>channel_view_count</th>\n",
       "      <th>channel_subscriber_count</th>\n",
       "      <th>channel_country</th>\n",
       "      <th>channel_creation_date</th>\n",
       "      <th>date_of_capture</th>\n",
       "      <th>is_active</th>\n",
       "    </tr>\n",
       "  </thead>\n",
       "  <tbody>\n",
       "    <tr>\n",
       "      <th>0</th>\n",
       "      <td>UCYt67-MBjYF5Y8RcEAjtq1g</td>\n",
       "      <td>Jeyson</td>\n",
       "      <td>Jeyson official channel.Panamanian artist, sin...</td>\n",
       "      <td>['Instagram: instagram.com/matalojeyson', 'Spo...</td>\n",
       "      <td>20</td>\n",
       "      <td>17262230</td>\n",
       "      <td>40.3K</td>\n",
       "      <td>NaN</td>\n",
       "      <td>2023-03-03 00:00:00</td>\n",
       "      <td>2024-07-16 00:51:01.520607</td>\n",
       "      <td>True</td>\n",
       "    </tr>\n",
       "    <tr>\n",
       "      <th>1</th>\n",
       "      <td>UCYig0vJRD03a6lkqWrbP8xg</td>\n",
       "      <td>Saeid 2.0</td>\n",
       "      <td>Assalamu alaikumWelcome to saeid 2.0Subscribe...</td>\n",
       "      <td>['Facebook : facebook.com/saeidhossan05']</td>\n",
       "      <td>107</td>\n",
       "      <td>69593</td>\n",
       "      <td>307</td>\n",
       "      <td>Bangladesh</td>\n",
       "      <td>2016-11-19 00:00:00</td>\n",
       "      <td>2024-07-16 00:51:02.811678</td>\n",
       "      <td>True</td>\n",
       "    </tr>\n",
       "    <tr>\n",
       "      <th>2</th>\n",
       "      <td>UCOTXKyzvDOqDGDKhuScHOag</td>\n",
       "      <td>Nina Maya</td>\n",
       "      <td>Vem dançar com a Cia NinaMaya, Inscreva-se no ...</td>\n",
       "      <td>['Nina Maya: instagram.com/ninnamaya', 'Nina M...</td>\n",
       "      <td>567</td>\n",
       "      <td>102409305</td>\n",
       "      <td>512K</td>\n",
       "      <td>Brazil</td>\n",
       "      <td>2010-05-30 00:00:00</td>\n",
       "      <td>2024-07-16 00:51:03.966486</td>\n",
       "      <td>True</td>\n",
       "    </tr>\n",
       "    <tr>\n",
       "      <th>3</th>\n",
       "      <td>UC4bEEVSvrNu0i7FQrCMNthw</td>\n",
       "      <td>MUNDO LIGA</td>\n",
       "      <td>Liga y futbol!!!!</td>\n",
       "      <td>[]</td>\n",
       "      <td>1797</td>\n",
       "      <td>8862316</td>\n",
       "      <td>30.7K</td>\n",
       "      <td>NaN</td>\n",
       "      <td>2017-03-06 00:00:00</td>\n",
       "      <td>2024-07-16 00:51:05.155662</td>\n",
       "      <td>True</td>\n",
       "    </tr>\n",
       "    <tr>\n",
       "      <th>4</th>\n",
       "      <td>UCgia4xeNJr_VfyNYSlCmWjg</td>\n",
       "      <td>Sol Margueliche</td>\n",
       "      <td>Cantante Compositora Sol MarguelicheActivo var...</td>\n",
       "      <td>['Sol: instagram.com/reel/CW8dYEsNgg9/?utm_med...</td>\n",
       "      <td>73</td>\n",
       "      <td>35297</td>\n",
       "      <td>742</td>\n",
       "      <td>Argentina</td>\n",
       "      <td>2013-09-24 00:00:00</td>\n",
       "      <td>2024-07-16 00:51:06.312718</td>\n",
       "      <td>True</td>\n",
       "    </tr>\n",
       "  </tbody>\n",
       "</table>\n",
       "</div>"
      ],
      "text/plain": [
       "                 channel_id     channel_name  \\\n",
       "0  UCYt67-MBjYF5Y8RcEAjtq1g           Jeyson   \n",
       "1  UCYig0vJRD03a6lkqWrbP8xg        Saeid 2.0   \n",
       "2  UCOTXKyzvDOqDGDKhuScHOag        Nina Maya   \n",
       "3  UC4bEEVSvrNu0i7FQrCMNthw       MUNDO LIGA   \n",
       "4  UCgia4xeNJr_VfyNYSlCmWjg  Sol Margueliche   \n",
       "\n",
       "                                 channel_description  \\\n",
       "0  Jeyson official channel.Panamanian artist, sin...   \n",
       "1   Assalamu alaikumWelcome to saeid 2.0Subscribe...   \n",
       "2  Vem dançar com a Cia NinaMaya, Inscreva-se no ...   \n",
       "3                                  Liga y futbol!!!!   \n",
       "4  Cantante Compositora Sol MarguelicheActivo var...   \n",
       "\n",
       "                                       channel_links  channel_video_count  \\\n",
       "0  ['Instagram: instagram.com/matalojeyson', 'Spo...                   20   \n",
       "1          ['Facebook : facebook.com/saeidhossan05']                  107   \n",
       "2  ['Nina Maya: instagram.com/ninnamaya', 'Nina M...                  567   \n",
       "3                                                 []                 1797   \n",
       "4  ['Sol: instagram.com/reel/CW8dYEsNgg9/?utm_med...                   73   \n",
       "\n",
       "   channel_view_count channel_subscriber_count channel_country  \\\n",
       "0            17262230                    40.3K             NaN   \n",
       "1               69593                      307      Bangladesh   \n",
       "2           102409305                     512K          Brazil   \n",
       "3             8862316                    30.7K             NaN   \n",
       "4               35297                      742       Argentina   \n",
       "\n",
       "  channel_creation_date             date_of_capture  is_active  \n",
       "0   2023-03-03 00:00:00  2024-07-16 00:51:01.520607       True  \n",
       "1   2016-11-19 00:00:00  2024-07-16 00:51:02.811678       True  \n",
       "2   2010-05-30 00:00:00  2024-07-16 00:51:03.966486       True  \n",
       "3   2017-03-06 00:00:00  2024-07-16 00:51:05.155662       True  \n",
       "4   2013-09-24 00:00:00  2024-07-16 00:51:06.312718       True  "
      ]
     },
     "execution_count": 9,
     "metadata": {},
     "output_type": "execute_result"
    }
   ],
   "source": [
    "test_videos_df = trial_df[0:250]\n",
    "test_videos_df"
   ]
  },
  {
   "cell_type": "code",
   "execution_count": 10,
   "metadata": {},
   "outputs": [],
   "source": [
    "# channel_video_list_sampled = vu.create_channel_video_relationship_list_limited_videos(test_videos_df, threshold)\n",
    "# channel_video_list_sampled\n",
    "# wu.write_list_to_csv(channel_video_list_sampled, \"channel_video_list_sampled_20_channels_120_videos\")\n",
    "# wu.write_list_to_csv_zipped(channel_video_list_sampled, \"channel_video_list_sampled_20_channels_120_videos\")"
   ]
  },
  {
   "cell_type": "code",
   "execution_count": 11,
   "metadata": {},
   "outputs": [],
   "source": [
    "# channel_shorts_list_sampled = su.create_channel_shorts_relationship_list_limited_shorts(test_videos_df, threshold)\n",
    "# channel_shorts_list_sampled\n",
    "# wu.write_list_to_csv(channel_shorts_list_sampled, \"channel_shorts_list_sampled_20_channels_120_videos\")\n",
    "# wu.write_list_to_csv_zipped(channel_shorts_list_sampled, \"channel_shorts_list_sampled_20_channels_120_videos\")"
   ]
  },
  {
   "cell_type": "code",
   "execution_count": 12,
   "metadata": {},
   "outputs": [],
   "source": [
    "# trial_df = pd.read_csv('dataset/output_dataset/channel_video_list_sampled_10_channels_120_videos.csv.gz', compression='gzip', delimiter = '\\u0001')\n",
    "# trial_df\n"
   ]
  },
  {
   "cell_type": "code",
   "execution_count": 13,
   "metadata": {},
   "outputs": [
    {
     "data": {
      "text/plain": [
       "channel_id                  5\n",
       "channel_name                5\n",
       "channel_description         5\n",
       "channel_links               5\n",
       "channel_video_count         5\n",
       "channel_view_count          5\n",
       "channel_subscriber_count    5\n",
       "channel_country             3\n",
       "channel_creation_date       5\n",
       "date_of_capture             5\n",
       "is_active                   5\n",
       "dtype: int64"
      ]
     },
     "execution_count": 13,
     "metadata": {},
     "output_type": "execute_result"
    }
   ],
   "source": [
    "test_videos_df.count()"
   ]
  },
  {
   "cell_type": "code",
   "execution_count": null,
   "metadata": {},
   "outputs": [],
   "source": [
    "vu.channels_videos_fetch_and_write_to_csv_gzipped(\n",
    "    channel_ids_df = test_videos_df,\n",
    "    output_address= \"dataset/output_dataset/\",\n",
    "    output_file_name= \"trial_channels_videos.csv.gz\",\n",
    "    write_size= 5\n",
    ")"
   ]
  }
 ],
 "metadata": {
  "kernelspec": {
   "display_name": "Python 3",
   "language": "python",
   "name": "python3"
  },
  "language_info": {
   "codemirror_mode": {
    "name": "ipython",
    "version": 3
   },
   "file_extension": ".py",
   "mimetype": "text/x-python",
   "name": "python",
   "nbconvert_exporter": "python",
   "pygments_lexer": "ipython3",
   "version": "3.11.4"
  }
 },
 "nbformat": 4,
 "nbformat_minor": 2
}
