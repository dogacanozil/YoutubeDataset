{
 "cells": [
  {
   "cell_type": "markdown",
   "metadata": {},
   "source": [
    "# Showcase Notebook"
   ]
  },
  {
   "cell_type": "markdown",
   "metadata": {},
   "source": [
    "## Import modules"
   ]
  },
  {
   "cell_type": "code",
   "execution_count": 1,
   "metadata": {},
   "outputs": [],
   "source": [
    "import utils.channel_utils as cu\n",
    "import utils.video_utils as vu\n",
    "import utils.write_utils as wu\n",
    "import utils.legacy_utils as lu\n",
    "import utils.shorts_utils as su\n",
    "\n",
    "import pandas as pd\n",
    "import ssl\n",
    "ssl._create_default_https_context = ssl._create_unverified_context"
   ]
  },
  {
   "cell_type": "markdown",
   "metadata": {},
   "source": [
    "### Import Channel Ids"
   ]
  },
  {
   "cell_type": "code",
   "execution_count": 2,
   "metadata": {},
   "outputs": [],
   "source": [
    "channel_ids = pd.read_csv('dataset/input_dataset/channel_ids.csv.gz', compression='gzip')\n",
    "channel_ids.count()\n",
    "channel_ids_as_list = channel_ids['channel_id'].to_list()"
   ]
  },
  {
   "cell_type": "markdown",
   "metadata": {},
   "source": [
    "## Channels"
   ]
  },
  {
   "cell_type": "markdown",
   "metadata": {},
   "source": [
    "### Show an example for one channel id"
   ]
  },
  {
   "cell_type": "code",
   "execution_count": null,
   "metadata": {},
   "outputs": [],
   "source": [
    "first_channel_id = channel_ids_as_list[3]\n",
    "first_channel_id"
   ]
  },
  {
   "cell_type": "code",
   "execution_count": null,
   "metadata": {},
   "outputs": [],
   "source": [
    "channel_json_1 = lu.create_channel_record_as_json_by_channel_id(first_channel_id)\n",
    "channel_json_1"
   ]
  },
  {
   "cell_type": "code",
   "execution_count": null,
   "metadata": {},
   "outputs": [],
   "source": [
    "channel_json_1[\"channel_id\"]"
   ]
  },
  {
   "cell_type": "markdown",
   "metadata": {},
   "source": [
    "### Show an example "
   ]
  },
  {
   "cell_type": "code",
   "execution_count": null,
   "metadata": {},
   "outputs": [],
   "source": [
    "#Get first specified ids from the id list\n",
    "sample_channel_subset_ids = channel_ids_as_list[0:300]\n"
   ]
  },
  {
   "cell_type": "code",
   "execution_count": null,
   "metadata": {},
   "outputs": [],
   "source": [
    "cu.channels_fetch_and_write_to_csv_gzipped(sample_channel_subset_ids, output_address= \"dataset/output_dataset/\")"
   ]
  },
  {
   "cell_type": "code",
   "execution_count": null,
   "metadata": {},
   "outputs": [],
   "source": [
    "channels_dataset = pd.read_csv('dataset/output_dataset/100_channels_list.csv.gz', compression='gzip')\n",
    "channels_dataset.count()"
   ]
  },
  {
   "cell_type": "code",
   "execution_count": null,
   "metadata": {},
   "outputs": [],
   "source": [
    "channels_dataset[[\"channel_id\", \"channel_video_count\"]]"
   ]
  },
  {
   "cell_type": "code",
   "execution_count": null,
   "metadata": {},
   "outputs": [],
   "source": [
    "channels_dataset_as_list = channels_dataset['channel_id'].to_list()\n",
    "channels_dataset_as_list"
   ]
  },
  {
   "cell_type": "markdown",
   "metadata": {},
   "source": [
    "### Continue from index"
   ]
  },
  {
   "cell_type": "code",
   "execution_count": null,
   "metadata": {},
   "outputs": [],
   "source": [
    "# sample_channel_subset_ids = channel_ids_as_list[0:200]\n",
    "# cu.channels_fetch_and_write_to_csv_gzipped_continue_from_index(sample_channel_subset_ids, index=100, output_address= \"dataset/output_dataset/\", output_file_name =\"100_channels_list.csv.gz\")"
   ]
  },
  {
   "cell_type": "markdown",
   "metadata": {},
   "source": [
    "## Videos"
   ]
  },
  {
   "cell_type": "code",
   "execution_count": 3,
   "metadata": {},
   "outputs": [
    {
     "data": {
      "text/plain": [
       "channel_id                  300\n",
       "channel_url                 300\n",
       "channel_name                300\n",
       "channel_description         300\n",
       "channel_links               300\n",
       "channel_subscriber_count    300\n",
       "date_of_capture             300\n",
       "dtype: int64"
      ]
     },
     "execution_count": 3,
     "metadata": {},
     "output_type": "execute_result"
    }
   ],
   "source": [
    "trial_df = pd.read_csv('dataset/output_dataset/300_channels_list.csv.gz', compression='gzip')\n",
    "trial_df.count()\n"
   ]
  },
  {
   "cell_type": "code",
   "execution_count": 5,
   "metadata": {},
   "outputs": [
    {
     "data": {
      "text/html": [
       "<div>\n",
       "<style scoped>\n",
       "    .dataframe tbody tr th:only-of-type {\n",
       "        vertical-align: middle;\n",
       "    }\n",
       "\n",
       "    .dataframe tbody tr th {\n",
       "        vertical-align: top;\n",
       "    }\n",
       "\n",
       "    .dataframe thead th {\n",
       "        text-align: right;\n",
       "    }\n",
       "</style>\n",
       "<table border=\"1\" class=\"dataframe\">\n",
       "  <thead>\n",
       "    <tr style=\"text-align: right;\">\n",
       "      <th></th>\n",
       "      <th>channel_id</th>\n",
       "      <th>channel_url</th>\n",
       "      <th>channel_name</th>\n",
       "      <th>channel_description</th>\n",
       "      <th>channel_links</th>\n",
       "      <th>channel_subscriber_count</th>\n",
       "      <th>date_of_capture</th>\n",
       "    </tr>\n",
       "  </thead>\n",
       "  <tbody>\n",
       "    <tr>\n",
       "      <th>0</th>\n",
       "      <td>UCYt67-MBjYF5Y8RcEAjtq1g</td>\n",
       "      <td>https://www.youtube.com/channel/UCYt67-MBjYF5Y...</td>\n",
       "      <td>Jeyson</td>\n",
       "      <td>Jeyson official channel.Panamanian artist, sin...</td>\n",
       "      <td>['Instagram: instagram.com/matalojeyson', 'Spo...</td>\n",
       "      <td>38.2K</td>\n",
       "      <td>2024-06-12 22:39:42.234659</td>\n",
       "    </tr>\n",
       "    <tr>\n",
       "      <th>1</th>\n",
       "      <td>UCYig0vJRD03a6lkqWrbP8xg</td>\n",
       "      <td>https://www.youtube.com/channel/UCYig0vJRD03a6...</td>\n",
       "      <td>Saeid 2.0</td>\n",
       "      <td>Assalamu alaikumWelcome to saeid 2.0Subscribe...</td>\n",
       "      <td>['Facebook : facebook.com/saeidhossan05']</td>\n",
       "      <td>308</td>\n",
       "      <td>2024-06-12 22:39:43.509758</td>\n",
       "    </tr>\n",
       "    <tr>\n",
       "      <th>2</th>\n",
       "      <td>UCOTXKyzvDOqDGDKhuScHOag</td>\n",
       "      <td>https://www.youtube.com/channel/UCOTXKyzvDOqDG...</td>\n",
       "      <td>Nina Maya</td>\n",
       "      <td>Vem dançar com a Cia NinaMaya, Inscreva-se no ...</td>\n",
       "      <td>['Nina Maya: instagram.com/ninnamaya', 'Nina M...</td>\n",
       "      <td>511K</td>\n",
       "      <td>2024-06-12 22:39:44.696751</td>\n",
       "    </tr>\n",
       "    <tr>\n",
       "      <th>3</th>\n",
       "      <td>UC4bEEVSvrNu0i7FQrCMNthw</td>\n",
       "      <td>https://www.youtube.com/channel/UC4bEEVSvrNu0i...</td>\n",
       "      <td>MUNDO LIGA</td>\n",
       "      <td>Liga y futbol!!!!</td>\n",
       "      <td>[]</td>\n",
       "      <td>30.5K</td>\n",
       "      <td>2024-06-12 22:39:45.860581</td>\n",
       "    </tr>\n",
       "    <tr>\n",
       "      <th>4</th>\n",
       "      <td>UCgia4xeNJr_VfyNYSlCmWjg</td>\n",
       "      <td>This channel does not exist.</td>\n",
       "      <td>This channel does not exist.</td>\n",
       "      <td>This channel does not exist.</td>\n",
       "      <td>This channel does not exist.</td>\n",
       "      <td>This channel does not exist.</td>\n",
       "      <td>This channel does not exist.</td>\n",
       "    </tr>\n",
       "    <tr>\n",
       "      <th>...</th>\n",
       "      <td>...</td>\n",
       "      <td>...</td>\n",
       "      <td>...</td>\n",
       "      <td>...</td>\n",
       "      <td>...</td>\n",
       "      <td>...</td>\n",
       "      <td>...</td>\n",
       "    </tr>\n",
       "    <tr>\n",
       "      <th>245</th>\n",
       "      <td>UCh6uzNt8SEOGDE8t-NfX-1Q</td>\n",
       "      <td>https://www.youtube.com/channel/UCh6uzNt8SEOGD...</td>\n",
       "      <td>Yummy Candy</td>\n",
       "      <td>Learn the colors with Lollipops And Sweets - Y...</td>\n",
       "      <td>[]</td>\n",
       "      <td>50.9K</td>\n",
       "      <td>2024-06-12 22:44:39.944009</td>\n",
       "    </tr>\n",
       "    <tr>\n",
       "      <th>246</th>\n",
       "      <td>UCNJQo_GWs_yF_U-sqZmxzpA</td>\n",
       "      <td>https://www.youtube.com/channel/UCNJQo_GWs_yF_...</td>\n",
       "      <td>15 phút review</td>\n",
       "      <td>kênh chuyên thảo luận và đăng tải thông tin về...</td>\n",
       "      <td>['Youtube: youtube.com/channel/UCNJQo_GWs_yF_U...</td>\n",
       "      <td>41.1K</td>\n",
       "      <td>2024-06-12 22:44:41.003514</td>\n",
       "    </tr>\n",
       "    <tr>\n",
       "      <th>247</th>\n",
       "      <td>UCfbpjxTKDmmaWhjEmHV3fUA</td>\n",
       "      <td>https://www.youtube.com/channel/UCfbpjxTKDmmaW...</td>\n",
       "      <td>Ayu Sintya ARMY</td>\n",
       "      <td>VIRGINITY, MRZ, DLZ &amp;amp; TRIADERS.. Like, Com...</td>\n",
       "      <td>[]</td>\n",
       "      <td>769</td>\n",
       "      <td>2024-06-12 22:44:42.060497</td>\n",
       "    </tr>\n",
       "    <tr>\n",
       "      <th>248</th>\n",
       "      <td>UCcdRnyDx33jV_SOzeHIjOtg</td>\n",
       "      <td>https://www.youtube.com/channel/UCcdRnyDx33jV_...</td>\n",
       "      <td>Mờ Review</td>\n",
       "      <td>Xin chào, Mờ Review đây.Chúng mình sẽ mang đến...</td>\n",
       "      <td>['ĐĂNG KÝ NGAY: youtube.com/channel/UCcdRnyDx3...</td>\n",
       "      <td>1.44K</td>\n",
       "      <td>2024-06-12 22:44:43.232265</td>\n",
       "    </tr>\n",
       "    <tr>\n",
       "      <th>249</th>\n",
       "      <td>UCQXlx0lmVZWvM9-FpMpiIzw</td>\n",
       "      <td>https://www.youtube.com/channel/UCQXlx0lmVZWvM...</td>\n",
       "      <td>Cute Candy BiBi Bu</td>\n",
       "      <td>Share your videos with friends, family, and th...</td>\n",
       "      <td>[]</td>\n",
       "      <td>32.5K</td>\n",
       "      <td>2024-06-12 22:44:44.519002</td>\n",
       "    </tr>\n",
       "  </tbody>\n",
       "</table>\n",
       "<p>250 rows × 7 columns</p>\n",
       "</div>"
      ],
      "text/plain": [
       "                   channel_id  \\\n",
       "0    UCYt67-MBjYF5Y8RcEAjtq1g   \n",
       "1    UCYig0vJRD03a6lkqWrbP8xg   \n",
       "2    UCOTXKyzvDOqDGDKhuScHOag   \n",
       "3    UC4bEEVSvrNu0i7FQrCMNthw   \n",
       "4    UCgia4xeNJr_VfyNYSlCmWjg   \n",
       "..                        ...   \n",
       "245  UCh6uzNt8SEOGDE8t-NfX-1Q   \n",
       "246  UCNJQo_GWs_yF_U-sqZmxzpA   \n",
       "247  UCfbpjxTKDmmaWhjEmHV3fUA   \n",
       "248  UCcdRnyDx33jV_SOzeHIjOtg   \n",
       "249  UCQXlx0lmVZWvM9-FpMpiIzw   \n",
       "\n",
       "                                           channel_url  \\\n",
       "0    https://www.youtube.com/channel/UCYt67-MBjYF5Y...   \n",
       "1    https://www.youtube.com/channel/UCYig0vJRD03a6...   \n",
       "2    https://www.youtube.com/channel/UCOTXKyzvDOqDG...   \n",
       "3    https://www.youtube.com/channel/UC4bEEVSvrNu0i...   \n",
       "4                         This channel does not exist.   \n",
       "..                                                 ...   \n",
       "245  https://www.youtube.com/channel/UCh6uzNt8SEOGD...   \n",
       "246  https://www.youtube.com/channel/UCNJQo_GWs_yF_...   \n",
       "247  https://www.youtube.com/channel/UCfbpjxTKDmmaW...   \n",
       "248  https://www.youtube.com/channel/UCcdRnyDx33jV_...   \n",
       "249  https://www.youtube.com/channel/UCQXlx0lmVZWvM...   \n",
       "\n",
       "                     channel_name  \\\n",
       "0                          Jeyson   \n",
       "1                       Saeid 2.0   \n",
       "2                       Nina Maya   \n",
       "3                      MUNDO LIGA   \n",
       "4    This channel does not exist.   \n",
       "..                            ...   \n",
       "245                   Yummy Candy   \n",
       "246                15 phút review   \n",
       "247               Ayu Sintya ARMY   \n",
       "248                     Mờ Review   \n",
       "249            Cute Candy BiBi Bu   \n",
       "\n",
       "                                   channel_description  \\\n",
       "0    Jeyson official channel.Panamanian artist, sin...   \n",
       "1     Assalamu alaikumWelcome to saeid 2.0Subscribe...   \n",
       "2    Vem dançar com a Cia NinaMaya, Inscreva-se no ...   \n",
       "3                                    Liga y futbol!!!!   \n",
       "4                         This channel does not exist.   \n",
       "..                                                 ...   \n",
       "245  Learn the colors with Lollipops And Sweets - Y...   \n",
       "246  kênh chuyên thảo luận và đăng tải thông tin về...   \n",
       "247  VIRGINITY, MRZ, DLZ &amp; TRIADERS.. Like, Com...   \n",
       "248  Xin chào, Mờ Review đây.Chúng mình sẽ mang đến...   \n",
       "249  Share your videos with friends, family, and th...   \n",
       "\n",
       "                                         channel_links  \\\n",
       "0    ['Instagram: instagram.com/matalojeyson', 'Spo...   \n",
       "1            ['Facebook : facebook.com/saeidhossan05']   \n",
       "2    ['Nina Maya: instagram.com/ninnamaya', 'Nina M...   \n",
       "3                                                   []   \n",
       "4                         This channel does not exist.   \n",
       "..                                                 ...   \n",
       "245                                                 []   \n",
       "246  ['Youtube: youtube.com/channel/UCNJQo_GWs_yF_U...   \n",
       "247                                                 []   \n",
       "248  ['ĐĂNG KÝ NGAY: youtube.com/channel/UCcdRnyDx3...   \n",
       "249                                                 []   \n",
       "\n",
       "         channel_subscriber_count               date_of_capture  \n",
       "0                           38.2K    2024-06-12 22:39:42.234659  \n",
       "1                             308    2024-06-12 22:39:43.509758  \n",
       "2                            511K    2024-06-12 22:39:44.696751  \n",
       "3                           30.5K    2024-06-12 22:39:45.860581  \n",
       "4    This channel does not exist.  This channel does not exist.  \n",
       "..                            ...                           ...  \n",
       "245                         50.9K    2024-06-12 22:44:39.944009  \n",
       "246                         41.1K    2024-06-12 22:44:41.003514  \n",
       "247                           769    2024-06-12 22:44:42.060497  \n",
       "248                         1.44K    2024-06-12 22:44:43.232265  \n",
       "249                         32.5K    2024-06-12 22:44:44.519002  \n",
       "\n",
       "[250 rows x 7 columns]"
      ]
     },
     "execution_count": 5,
     "metadata": {},
     "output_type": "execute_result"
    }
   ],
   "source": [
    "test_videos_df = trial_df[0:250]\n",
    "test_videos_df"
   ]
  },
  {
   "cell_type": "code",
   "execution_count": null,
   "metadata": {},
   "outputs": [],
   "source": [
    "channel_ids_df = test_videos_df\n",
    "threshold= 120"
   ]
  },
  {
   "cell_type": "code",
   "execution_count": null,
   "metadata": {},
   "outputs": [],
   "source": [
    "channel_video_list_sampled = vu.create_channel_video_relationship_list_limited_videos(test_videos_df, threshold)\n",
    "channel_video_list_sampled\n",
    "wu.write_list_to_csv(channel_video_list_sampled, \"channel_video_list_sampled_10_channels_120_videos\")\n",
    "wu.write_list_to_csv_zipped(channel_video_list_sampled, \"channel_video_list_sampled_10_channels_120_videos\")"
   ]
  },
  {
   "cell_type": "code",
   "execution_count": null,
   "metadata": {},
   "outputs": [],
   "source": [
    "len(test_videos_df[\"channel_id\"])"
   ]
  },
  {
   "cell_type": "code",
   "execution_count": null,
   "metadata": {},
   "outputs": [],
   "source": [
    "channel_shorts_list_sampled = su.create_channel_shorts_relationship_list_limited_shorts(test_videos_df, threshold)\n",
    "channel_shorts_list_sampled\n",
    "wu.write_list_to_csv(channel_shorts_list_sampled, \"channel_shorts_list_sampled_10_channels_120_videos\")\n",
    "wu.write_list_to_csv_zipped(channel_shorts_list_sampled, \"channel_shorts_list_sampled_10_channels_120_videos\")"
   ]
  },
  {
   "cell_type": "code",
   "execution_count": null,
   "metadata": {},
   "outputs": [],
   "source": [
    "trial_df = pd.read_csv('dataset/output_dataset/channel_video_list_sampled_10_channels_120_videos.csv.gz', compression='gzip', delimiter = '\\u0001')\n",
    "trial_df\n"
   ]
  },
  {
   "cell_type": "code",
   "execution_count": 7,
   "metadata": {},
   "outputs": [
    {
     "data": {
      "text/plain": [
       "channel_id                  250\n",
       "channel_url                 250\n",
       "channel_name                250\n",
       "channel_description         250\n",
       "channel_links               250\n",
       "channel_subscriber_count    250\n",
       "date_of_capture             250\n",
       "dtype: int64"
      ]
     },
     "execution_count": 7,
     "metadata": {},
     "output_type": "execute_result"
    }
   ],
   "source": [
    "test_videos_df.count()"
   ]
  },
  {
   "cell_type": "code",
   "execution_count": 9,
   "metadata": {},
   "outputs": [
    {
     "name": "stdout",
     "output_type": "stream",
     "text": [
      "20\n",
      "40\n",
      "60\n",
      "80\n",
      "100\n",
      "120\n",
      "140\n",
      "160\n",
      "180\n",
      "200\n",
      "220\n",
      "240\n"
     ]
    }
   ],
   "source": [
    "vu.channels_videos_fetch_and_write_to_csv_gzipped(\n",
    "    channel_ids_df = test_videos_df,\n",
    "    output_address= \"dataset/output_dataset/\",\n",
    "    output_file_name= \"trial_channels_videos.csv.gz\",\n",
    "    write_size= 20\n",
    ")"
   ]
  },
  {
   "cell_type": "code",
   "execution_count": 10,
   "metadata": {},
   "outputs": [
    {
     "data": {
      "text/html": [
       "<div>\n",
       "<style scoped>\n",
       "    .dataframe tbody tr th:only-of-type {\n",
       "        vertical-align: middle;\n",
       "    }\n",
       "\n",
       "    .dataframe tbody tr th {\n",
       "        vertical-align: top;\n",
       "    }\n",
       "\n",
       "    .dataframe thead th {\n",
       "        text-align: right;\n",
       "    }\n",
       "</style>\n",
       "<table border=\"1\" class=\"dataframe\">\n",
       "  <thead>\n",
       "    <tr style=\"text-align: right;\">\n",
       "      <th></th>\n",
       "      <th>channel_id,video_id</th>\n",
       "    </tr>\n",
       "  </thead>\n",
       "  <tbody>\n",
       "    <tr>\n",
       "      <th>0</th>\n",
       "      <td>UCYt67-MBjYF5Y8RcEAjtq1g,E7PjJTBuyL4</td>\n",
       "    </tr>\n",
       "    <tr>\n",
       "      <th>1</th>\n",
       "      <td>UCYt67-MBjYF5Y8RcEAjtq1g,47phcA27M14</td>\n",
       "    </tr>\n",
       "    <tr>\n",
       "      <th>2</th>\n",
       "      <td>UCYt67-MBjYF5Y8RcEAjtq1g,7ppDL_kEyQs</td>\n",
       "    </tr>\n",
       "    <tr>\n",
       "      <th>3</th>\n",
       "      <td>UCYt67-MBjYF5Y8RcEAjtq1g,5vQ0aZHrS9M</td>\n",
       "    </tr>\n",
       "    <tr>\n",
       "      <th>4</th>\n",
       "      <td>UCYt67-MBjYF5Y8RcEAjtq1g,fSQY4r9E5gY</td>\n",
       "    </tr>\n",
       "    <tr>\n",
       "      <th>...</th>\n",
       "      <td>...</td>\n",
       "    </tr>\n",
       "    <tr>\n",
       "      <th>23220</th>\n",
       "      <td>UCQXlx0lmVZWvM9-FpMpiIzw,4gwicrYuBeE</td>\n",
       "    </tr>\n",
       "    <tr>\n",
       "      <th>23221</th>\n",
       "      <td>UCQXlx0lmVZWvM9-FpMpiIzw,Snbg3_x9QWc</td>\n",
       "    </tr>\n",
       "    <tr>\n",
       "      <th>23222</th>\n",
       "      <td>UCQXlx0lmVZWvM9-FpMpiIzw,0h5m39zi41k</td>\n",
       "    </tr>\n",
       "    <tr>\n",
       "      <th>23223</th>\n",
       "      <td>UCQXlx0lmVZWvM9-FpMpiIzw,CMy_eTQN3uU</td>\n",
       "    </tr>\n",
       "    <tr>\n",
       "      <th>23224</th>\n",
       "      <td>UCQXlx0lmVZWvM9-FpMpiIzw,HApUNYia4HE</td>\n",
       "    </tr>\n",
       "  </tbody>\n",
       "</table>\n",
       "<p>23225 rows × 1 columns</p>\n",
       "</div>"
      ],
      "text/plain": [
       "                        channel_id,video_id\n",
       "0      UCYt67-MBjYF5Y8RcEAjtq1g,E7PjJTBuyL4\n",
       "1      UCYt67-MBjYF5Y8RcEAjtq1g,47phcA27M14\n",
       "2      UCYt67-MBjYF5Y8RcEAjtq1g,7ppDL_kEyQs\n",
       "3      UCYt67-MBjYF5Y8RcEAjtq1g,5vQ0aZHrS9M\n",
       "4      UCYt67-MBjYF5Y8RcEAjtq1g,fSQY4r9E5gY\n",
       "...                                     ...\n",
       "23220  UCQXlx0lmVZWvM9-FpMpiIzw,4gwicrYuBeE\n",
       "23221  UCQXlx0lmVZWvM9-FpMpiIzw,Snbg3_x9QWc\n",
       "23222  UCQXlx0lmVZWvM9-FpMpiIzw,0h5m39zi41k\n",
       "23223  UCQXlx0lmVZWvM9-FpMpiIzw,CMy_eTQN3uU\n",
       "23224  UCQXlx0lmVZWvM9-FpMpiIzw,HApUNYia4HE\n",
       "\n",
       "[23225 rows x 1 columns]"
      ]
     },
     "execution_count": 10,
     "metadata": {},
     "output_type": "execute_result"
    }
   ],
   "source": [
    "trial_df = pd.read_csv('dataset/output_dataset/trial_channels_videos.csv.gz', compression='gzip', delimiter = '\\u0001')\n",
    "trial_df\n"
   ]
  },
  {
   "cell_type": "code",
   "execution_count": null,
   "metadata": {},
   "outputs": [],
   "source": [
    "#It is the \n",
    "# test_video_ids_list = test_videos_df[\"channel_id\"].to_list()\n",
    "# test_video_ids_list\n",
    "# channel_video_list = vu.create_channel_video_relationship_list(test_video_ids_list)\n",
    "# channel_video_list"
   ]
  }
 ],
 "metadata": {
  "kernelspec": {
   "display_name": "Python 3",
   "language": "python",
   "name": "python3"
  },
  "language_info": {
   "codemirror_mode": {
    "name": "ipython",
    "version": 3
   },
   "file_extension": ".py",
   "mimetype": "text/x-python",
   "name": "python",
   "nbconvert_exporter": "python",
   "pygments_lexer": "ipython3",
   "version": "3.11.4"
  }
 },
 "nbformat": 4,
 "nbformat_minor": 2
}
