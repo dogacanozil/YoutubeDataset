{
 "cells": [
  {
   "cell_type": "markdown",
   "metadata": {},
   "source": [
    "# Showcase Notebook"
   ]
  },
  {
   "cell_type": "markdown",
   "metadata": {},
   "source": [
    "## Import modules"
   ]
  },
  {
   "cell_type": "code",
   "execution_count": 1,
   "metadata": {},
   "outputs": [],
   "source": [
    "import utils.channel_utils as cu\n",
    "import utils.video_utils as vu\n",
    "import utils.write_utils as wu\n",
    "import utils.__deprecated_legacy_utils as lu\n",
    "import utils.video_utils_parallelization as vur\n",
    "\n",
    "import pandas as pd\n",
    "import ssl\n",
    "ssl._create_default_https_context = ssl._create_unverified_context"
   ]
  },
  {
   "cell_type": "markdown",
   "metadata": {},
   "source": [
    "## Videos"
   ]
  },
  {
   "cell_type": "code",
   "execution_count": 2,
   "metadata": {},
   "outputs": [
    {
     "data": {
      "text/plain": [
       "channel_id                  10000\n",
       "channel_name                 9658\n",
       "channel_description          9656\n",
       "channel_links                9658\n",
       "channel_video_count          9658\n",
       "channel_view_count           9658\n",
       "channel_subscriber_count     9617\n",
       "channel_country              8001\n",
       "channel_creation_date        9658\n",
       "date_of_capture             10000\n",
       "is_active                   10000\n",
       "dtype: int64"
      ]
     },
     "execution_count": 2,
     "metadata": {},
     "output_type": "execute_result"
    }
   ],
   "source": [
    "trial_df = pd.read_csv('dataset/output_dataset/from_20000_until_30000_channels_list.csv.gz', compression='gzip')\n",
    "trial_df.count()\n"
   ]
  },
  {
   "cell_type": "code",
   "execution_count": null,
   "metadata": {},
   "outputs": [],
   "source": [
    "test_videos_df = trial_df[0:100]"
   ]
  },
  {
   "cell_type": "code",
   "execution_count": 4,
   "metadata": {},
   "outputs": [
    {
     "name": "stdout",
     "output_type": "stream",
     "text": [
      "0\n",
      "1\n",
      "2\n",
      "3\n",
      "4\n",
      "5\n",
      "6\n",
      "7\n",
      "8\n",
      "9\n",
      "10\n",
      "11\n",
      "12\n",
      "13\n",
      "14\n",
      "15\n",
      "16\n",
      "17\n",
      "18\n",
      "19\n",
      "20\n",
      "21\n",
      "22\n",
      "23\n",
      "24\n",
      "25\n",
      "26\n",
      "27\n",
      "28\n",
      "29\n",
      "30\n",
      "31\n",
      "32\n",
      "33\n",
      "34\n",
      "35\n",
      "36\n",
      "37\n",
      "38\n",
      "39\n",
      "40\n",
      "41\n",
      "42\n",
      "43\n",
      "44\n",
      "45\n",
      "46\n",
      "47\n",
      "48\n",
      "49\n",
      "50\n",
      "51\n",
      "52\n",
      "53\n",
      "54\n",
      "55\n",
      "56\n",
      "57\n",
      "58\n",
      "59\n",
      "60\n",
      "61\n",
      "62\n",
      "63\n",
      "64\n",
      "65\n",
      "66\n",
      "67\n",
      "68\n",
      "69\n",
      "70\n",
      "71\n",
      "72\n",
      "73\n",
      "74\n",
      "75\n",
      "76\n",
      "77\n",
      "78\n",
      "79\n",
      "80\n",
      "81\n",
      "82\n",
      "83\n",
      "84\n",
      "85\n",
      "86\n",
      "87\n",
      "88\n",
      "89\n",
      "90\n",
      "91\n",
      "92\n",
      "93\n",
      "94\n",
      "95\n",
      "96\n",
      "97\n",
      "98\n",
      "99\n"
     ]
    }
   ],
   "source": [
    "vu.channels_videos_fetch_and_write_to_csv_gzipped(\n",
    "    channel_ids_df = test_videos_df,\n",
    "    output_address= \"dataset/output_dataset/\",\n",
    "    output_file_name= \"from_0_until_100_channels_60_videos.csv.gz\"\n",
    ")"
   ]
  },
  {
   "cell_type": "code",
   "execution_count": 6,
   "metadata": {},
   "outputs": [
    {
     "data": {
      "text/plain": [
       "channel_id             5110\n",
       "video_id               5110\n",
       "video_title            5110\n",
       "video_length           5110\n",
       "video_description      4997\n",
       "video_thumbnail_url    5110\n",
       "video_views_count      5109\n",
       "video_publish_date     5109\n",
       "date_of_capture        5110\n",
       "dtype: int64"
      ]
     },
     "execution_count": 6,
     "metadata": {},
     "output_type": "execute_result"
    }
   ],
   "source": [
    "trial_df = pd.read_csv('dataset/output_dataset/from_0_until_100_channels_60_videos.csv.gz', compression='gzip')\n",
    "trial_df.count()\n"
   ]
  },
  {
   "cell_type": "code",
   "execution_count": 5,
   "metadata": {},
   "outputs": [],
   "source": [
    "# for i in [1,2,3,4,5,6,7,8,9,10]:\n",
    "#     from_index = 3000+100*i\n",
    "#     to_index = 3000+100*i+100\n",
    "\n",
    "#     test_videos_df = trial_df[1000+100*i:1100+100*i+100]\n",
    "#     print(f\"Now for from this index: {from_index} to {to_index}\")\n",
    "#     print(from_index)\n",
    "#     # test_videos_df\n",
    "#     vu.channels_videos_fetch_and_write_to_csv_gzipped(\n",
    "#         channel_ids_df = test_videos_df,\n",
    "#         output_address= \"dataset/output_dataset/\",\n",
    "#         output_file_name= f\"03_09_2024_{from_index}_{to_index}_channels_120_videos_2.csv.gz\"\n",
    "#     )"
   ]
  }
 ],
 "metadata": {
  "kernelspec": {
   "display_name": "Python 3",
   "language": "python",
   "name": "python3"
  },
  "language_info": {
   "codemirror_mode": {
    "name": "ipython",
    "version": 3
   },
   "file_extension": ".py",
   "mimetype": "text/x-python",
   "name": "python",
   "nbconvert_exporter": "python",
   "pygments_lexer": "ipython3",
   "version": "3.11.4"
  }
 },
 "nbformat": 4,
 "nbformat_minor": 2
}
