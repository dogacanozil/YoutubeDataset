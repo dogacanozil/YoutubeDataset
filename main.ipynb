{
 "cells": [
  {
   "cell_type": "markdown",
   "metadata": {},
   "source": [
    "# Showcase Notebook"
   ]
  },
  {
   "cell_type": "markdown",
   "metadata": {},
   "source": [
    "## Import modules"
   ]
  },
  {
   "cell_type": "code",
   "execution_count": 1,
   "metadata": {},
   "outputs": [
    {
     "name": "stderr",
     "output_type": "stream",
     "text": [
      "/var/folders/mx/qyzv6w1s6vvfbglqfp09p6240000gq/T/ipykernel_86555/1688653414.py:2: DeprecationWarning: \n",
      "Pyarrow will become a required dependency of pandas in the next major release of pandas (pandas 3.0),\n",
      "(to allow more performant data types, such as the Arrow string type, and better interoperability with other libraries)\n",
      "but was not found to be installed on your system.\n",
      "If this would cause problems for you,\n",
      "please provide us feedback at https://github.com/pandas-dev/pandas/issues/54466\n",
      "        \n",
      "  import pandas as pd\n"
     ]
    }
   ],
   "source": [
    "import helper_functions as hf\n",
    "import pandas as pd\n",
    "import ssl\n",
    "import csv\n",
    "ssl._create_default_https_context = ssl._create_unverified_context"
   ]
  },
  {
   "cell_type": "markdown",
   "metadata": {},
   "source": [
    "## Import Channel Ids"
   ]
  },
  {
   "cell_type": "code",
   "execution_count": 2,
   "metadata": {},
   "outputs": [],
   "source": [
    "channel_ids = pd.read_csv('dataset/inputDataset/channel_ids.csv.gz', compression='gzip')\n",
    "channel_ids.count()\n",
    "channel_ids_as_list = channel_ids['channel_id'].to_list()"
   ]
  },
  {
   "cell_type": "markdown",
   "metadata": {},
   "source": [
    "## Show an example for one channel id"
   ]
  },
  {
   "cell_type": "code",
   "execution_count": 3,
   "metadata": {},
   "outputs": [
    {
     "data": {
      "text/plain": [
       "'UC4bEEVSvrNu0i7FQrCMNthw'"
      ]
     },
     "execution_count": 3,
     "metadata": {},
     "output_type": "execute_result"
    }
   ],
   "source": [
    "first_channel_id = channel_ids_as_list[3]\n",
    "first_channel_id"
   ]
  },
  {
   "cell_type": "code",
   "execution_count": 4,
   "metadata": {},
   "outputs": [
    {
     "data": {
      "text/plain": [
       "{'channel_id': 'UC4bEEVSvrNu0i7FQrCMNthw',\n",
       " 'channel_url': 'https://www.youtube.com/channel/UC4bEEVSvrNu0i7FQrCMNthw',\n",
       " 'channel_name': 'MUNDO LIGA',\n",
       " 'channel_description': 'Liga y futbol!!!!',\n",
       " 'channel_links': [],\n",
       " 'channel_subscriber_count': '30.3K',\n",
       " 'date_of_capture': datetime.datetime(2024, 5, 21, 22, 17, 56, 233344)}"
      ]
     },
     "execution_count": 4,
     "metadata": {},
     "output_type": "execute_result"
    }
   ],
   "source": [
    "channel_json_1 = hf.create_channel_record_as_json_by_channel_id(first_channel_id)\n",
    "channel_json_1"
   ]
  },
  {
   "cell_type": "code",
   "execution_count": 5,
   "metadata": {},
   "outputs": [
    {
     "data": {
      "text/plain": [
       "'UC4bEEVSvrNu0i7FQrCMNthw'"
      ]
     },
     "execution_count": 5,
     "metadata": {},
     "output_type": "execute_result"
    }
   ],
   "source": [
    "channel_json_1[\"channel_id\"]"
   ]
  },
  {
   "cell_type": "markdown",
   "metadata": {},
   "source": [
    "## Show an example "
   ]
  },
  {
   "cell_type": "code",
   "execution_count": 6,
   "metadata": {},
   "outputs": [],
   "source": [
    "#Get first specified ids from the id list\n",
    "sample_channel_subset_ids = channel_ids_as_list[0:100000]\n"
   ]
  },
  {
   "cell_type": "code",
   "execution_count": null,
   "metadata": {},
   "outputs": [],
   "source": [
    "# ten_youtube_channels_without_videos = hf.create_channel_records_list_list(first_ten_channel_list)"
   ]
  },
  {
   "cell_type": "code",
   "execution_count": null,
   "metadata": {},
   "outputs": [],
   "source": [
    "# output_file_name = 'dataset/outputDataset/10_channels_list_test.csv'\n",
    "# col_names = ['channel_id', 'channel_url', 'channel_name', 'channel_description', 'channel_links', 'channel_subscriber_count', 'date_of_capture']\n",
    "# hf.write_list_to_csv(ten_youtube_channels_without_videos, output_file_name, col_names)"
   ]
  },
  {
   "cell_type": "code",
   "execution_count": null,
   "metadata": {},
   "outputs": [],
   "source": [
    "# ten_youtube_channels_videos_edge = hf.create_channel_video_relationship_list(first_ten_channel_list)\n",
    "# output_file_name = 'dataset/outputDataset/10_channels_videos_edge_test.csv'\n",
    "# hf.write_list_to_csv(ten_youtube_channels_videos_edge, output_file_name)"
   ]
  },
  {
   "cell_type": "code",
   "execution_count": null,
   "metadata": {},
   "outputs": [],
   "source": [
    "# hf.channels_fetch_and_write_to_csv(first_ten_channel_list, output_address= \"dataset/outputDataset/\")"
   ]
  },
  {
   "cell_type": "code",
   "execution_count": 7,
   "metadata": {},
   "outputs": [
    {
     "name": "stderr",
     "output_type": "stream",
     "text": [
      "100%|██████████| 1000/1000 [13:29<00:00,  1.24it/s]\n"
     ]
    },
    {
     "name": "stdout",
     "output_type": "stream",
     "text": [
      "1000\n"
     ]
    },
    {
     "name": "stderr",
     "output_type": "stream",
     "text": [
      "100%|██████████| 1000/1000 [13:22<00:00,  1.25it/s]\n"
     ]
    }
   ],
   "source": [
    "hf.channels_fetch_and_write_to_csv_gzipped(sample_channel_subset_ids, output_address= \"dataset/outputDataset/\")"
   ]
  }
 ],
 "metadata": {
  "kernelspec": {
   "display_name": "Python 3",
   "language": "python",
   "name": "python3"
  },
  "language_info": {
   "codemirror_mode": {
    "name": "ipython",
    "version": 3
   },
   "file_extension": ".py",
   "mimetype": "text/x-python",
   "name": "python",
   "nbconvert_exporter": "python",
   "pygments_lexer": "ipython3",
   "version": "3.11.4"
  }
 },
 "nbformat": 4,
 "nbformat_minor": 2
}
