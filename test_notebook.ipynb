{
 "cells": [
  {
   "cell_type": "markdown",
   "metadata": {},
   "source": [
    "# Application Project - Computational Social Science"
   ]
  },
  {
   "cell_type": "markdown",
   "metadata": {},
   "source": [
    "## YouTube Channels Dataset Fetch"
   ]
  },
  {
   "cell_type": "code",
   "execution_count": null,
   "metadata": {},
   "outputs": [],
   "source": [
    "import pandas as pd\n",
    "from pytube import Channel\n",
    "import scrapetube\n",
    "from utils import find_between\n",
    "import ssl\n",
    "import helper_functions as hf\n",
    "\n",
    "from IPython.display import display\n",
    "ssl._create_default_https_context = ssl._create_unverified_context"
   ]
  },
  {
   "cell_type": "code",
   "execution_count": null,
   "metadata": {},
   "outputs": [],
   "source": [
    "channel_ids = pd.read_csv('dataset/outputDataset/100000_channels_list.csv.gz', compression='gzip')"
   ]
  },
  {
   "cell_type": "code",
   "execution_count": null,
   "metadata": {},
   "outputs": [],
   "source": [
    "channel_ids = pd.read_csv('dataset/inputDataset/channel_ids.csv.gz', compression='gzip')"
   ]
  },
  {
   "cell_type": "code",
   "execution_count": null,
   "metadata": {},
   "outputs": [],
   "source": [
    "channel_ids"
   ]
  },
  {
   "cell_type": "code",
   "execution_count": null,
   "metadata": {},
   "outputs": [],
   "source": [
    "channel_ids.count()"
   ]
  },
  {
   "cell_type": "code",
   "execution_count": null,
   "metadata": {},
   "outputs": [],
   "source": [
    "channel_ids, type(channel_ids)"
   ]
  },
  {
   "cell_type": "code",
   "execution_count": null,
   "metadata": {},
   "outputs": [],
   "source": [
    "channel_ids_as_list = channel_ids['channel_description'].to_list()"
   ]
  },
  {
   "cell_type": "markdown",
   "metadata": {},
   "source": [
    "## Channel Attributes"
   ]
  },
  {
   "cell_type": "markdown",
   "metadata": {},
   "source": [
    "### Example for one youtube channel"
   ]
  },
  {
   "cell_type": "code",
   "execution_count": null,
   "metadata": {},
   "outputs": [],
   "source": [
    "#Get first 1 id from the id list\n",
    "first_channel_id = channel_ids_as_list[0]\n"
   ]
  },
  {
   "cell_type": "code",
   "execution_count": null,
   "metadata": {},
   "outputs": [],
   "source": [
    "channel_url = f\"https://www.youtube.com/channel/{first_channel_id}\"\n",
    "channel_url"
   ]
  },
  {
   "cell_type": "code",
   "execution_count": null,
   "metadata": {},
   "outputs": [],
   "source": [
    "channel_object = Channel(channel_url)"
   ]
  },
  {
   "cell_type": "code",
   "execution_count": null,
   "metadata": {},
   "outputs": [],
   "source": [
    "#Channel ID\n",
    "channel_object.channel_id\n",
    "# channel_object.about_html"
   ]
  },
  {
   "cell_type": "code",
   "execution_count": null,
   "metadata": {},
   "outputs": [],
   "source": [
    "#Channel name\n",
    "channel_object.channel_name"
   ]
  },
  {
   "cell_type": "code",
   "execution_count": null,
   "metadata": {},
   "outputs": [],
   "source": [
    "#Channel Description\n",
    "channel_about_html = str(channel_object.about_html)\n",
    "channel_description = find_between(channel_about_html, 'name=\"description\" content=\"', '\"><meta name=\"keywords\"')\n",
    "channel_description"
   ]
  },
  {
   "cell_type": "code",
   "execution_count": null,
   "metadata": {},
   "outputs": [],
   "source": [
    "#Channel Links\n",
    "import json\n",
    "channel_about_html = str(channel_object.about_html)\n",
    "channels_links_as_string = find_between(channel_about_html, ',\"links\":', ',\"displayCanonicalChannelUrl\":')\n",
    "try:\n",
    "    channels_links_as_list = json.loads(channels_links_as_string)\n",
    "except:\n",
    "    channels_links_as_list = {}\n",
    "channels_links_per_channel = []\n",
    "for channel in channels_links_as_list:\n",
    "    print(f\"{channel['channelExternalLinkViewModel']['title']['content']}: {channel['channelExternalLinkViewModel']['link']['content']}\")\n",
    "    channels_links_per_channel.append(f\"{channel['channelExternalLinkViewModel']['title']['content']}: {channel['channelExternalLinkViewModel']['link']['content']}\")"
   ]
  },
  {
   "cell_type": "code",
   "execution_count": null,
   "metadata": {},
   "outputs": [],
   "source": [
    "#Channel yt api key might be important\n",
    "channel_object.yt_api_key"
   ]
  },
  {
   "cell_type": "code",
   "execution_count": null,
   "metadata": {},
   "outputs": [],
   "source": [
    "#Channel Subscribers\n",
    "channel_about_html = str(channel_object.about_html)\n",
    "channel_subscriber = find_between(channel_about_html, '\"subscriberCountText\":\"', ' subscribers')\n",
    "channel_subscriber"
   ]
  },
  {
   "cell_type": "code",
   "execution_count": null,
   "metadata": {},
   "outputs": [],
   "source": [
    "#Channel Videos\n",
    "videos = scrapetube.get_channel(channel_object.channel_id)\n",
    "videos_list_per_channel = []\n",
    "for video in videos:\n",
    "    videos_list_per_channel.append(video['videoId'])\n",
    "    print(video['videoId'])\n",
    "len(videos_list_per_channel)"
   ]
  },
  {
   "cell_type": "code",
   "execution_count": null,
   "metadata": {},
   "outputs": [],
   "source": [
    "videos = scrapetube.get_channel(channel_object.channel_id)\n",
    "for video in videos:\n",
    "    print(video['lengthTex'])"
   ]
  },
  {
   "cell_type": "code",
   "execution_count": null,
   "metadata": {},
   "outputs": [],
   "source": [
    "channel_object.channel_id, channel_object.channel_name, channel_description, channels_links_per_channel, channel_subscriber, videos_list_per_channel"
   ]
  },
  {
   "cell_type": "markdown",
   "metadata": {},
   "source": [
    "### Example for first hundred youtube channels"
   ]
  },
  {
   "cell_type": "code",
   "execution_count": null,
   "metadata": {},
   "outputs": [],
   "source": [
    "#Get first 100 ids from the id list\n",
    "sample_channel_list = channel_ids_as_list[0:2]\n"
   ]
  },
  {
   "cell_type": "code",
   "execution_count": null,
   "metadata": {},
   "outputs": [],
   "source": [
    "hf.channels_fetch_and_write_to_csv_gzipped_continue_from_index(sample_channel_list, output_address= \"dataset/outputDataset/\", output_file_name = \"2000_channels_list.csv.gz\", index=0)"
   ]
  },
  {
   "cell_type": "code",
   "execution_count": null,
   "metadata": {},
   "outputs": [],
   "source": [
    "for channel in sample_channel_list:\n",
    "    print(channel)\n",
    "    "
   ]
  },
  {
   "cell_type": "code",
   "execution_count": null,
   "metadata": {},
   "outputs": [],
   "source": [
    "sample_channels_videos_list = hf.create_channel_video_relationship_list(sample_channel_list)\n",
    "output_file_name = 'dataset/outputDataset/sample_channels_videos_edge_test_2.csv'\n",
    "hf.write_list_to_csv(sample_channels_videos_list, output_file_name)"
   ]
  },
  {
   "cell_type": "code",
   "execution_count": null,
   "metadata": {},
   "outputs": [],
   "source": [
    "channel_id = sample_channel_list[0]\n",
    "videos = scrapetube.get_channel(channel_id)\n",
    "videos.gi_code\n",
    "# for video in videos:\n",
    "    # print(video)"
   ]
  },
  {
   "cell_type": "code",
   "execution_count": null,
   "metadata": {},
   "outputs": [],
   "source": [
    "type(range(10))"
   ]
  },
  {
   "cell_type": "markdown",
   "metadata": {},
   "source": [
    "#### Video Attributes"
   ]
  },
  {
   "cell_type": "code",
   "execution_count": null,
   "metadata": {},
   "outputs": [],
   "source": [
    "from pytube import YouTube"
   ]
  },
  {
   "cell_type": "code",
   "execution_count": null,
   "metadata": {},
   "outputs": [],
   "source": [
    "vide_url = \"https://www.youtube.com/watch?v=47phcA27M14\""
   ]
  },
  {
   "cell_type": "code",
   "execution_count": null,
   "metadata": {},
   "outputs": [],
   "source": [
    "video_object = YouTube(vide_url)"
   ]
  },
  {
   "cell_type": "code",
   "execution_count": null,
   "metadata": {},
   "outputs": [],
   "source": [
    "import certifi\n",
    "import ssl\n",
    "ssl._create_default_https_context = ssl._create_unverified_context"
   ]
  },
  {
   "cell_type": "code",
   "execution_count": null,
   "metadata": {},
   "outputs": [],
   "source": [
    "video_object.title, video_object.description, video_object.publish_date"
   ]
  },
  {
   "cell_type": "markdown",
   "metadata": {},
   "source": [
    "## ScrapeTube"
   ]
  },
  {
   "cell_type": "code",
   "execution_count": null,
   "metadata": {},
   "outputs": [],
   "source": [
    "import scrapetube"
   ]
  },
  {
   "cell_type": "code",
   "execution_count": null,
   "metadata": {},
   "outputs": [],
   "source": [
    "# videos = scrapetube.get_channel(\"UCCezIgC97PvUuR4_gbFUs5g\")"
   ]
  },
  {
   "cell_type": "code",
   "execution_count": null,
   "metadata": {},
   "outputs": [],
   "source": [
    "videos = scrapetube.get_channel(sample_data_as_list[0])"
   ]
  },
  {
   "cell_type": "code",
   "execution_count": null,
   "metadata": {},
   "outputs": [],
   "source": [
    "for video in videos:\n",
    "    print(video['videoId'])"
   ]
  },
  {
   "cell_type": "markdown",
   "metadata": {},
   "source": [
    "## Web Scrape"
   ]
  },
  {
   "cell_type": "code",
   "execution_count": null,
   "metadata": {},
   "outputs": [],
   "source": [
    "import requests\n",
    "from bs4 import BeautifulSoup"
   ]
  },
  {
   "cell_type": "code",
   "execution_count": null,
   "metadata": {},
   "outputs": [],
   "source": [
    "def scrape_youtube_comments(video_url):\n",
    "    # Make a request to the video page\n",
    "    response = requests.get(video_url)\n",
    "    \n",
    "    # Check if the request was successful\n",
    "    if response.status_code == 200:\n",
    "        soup = BeautifulSoup(response.text, 'html.parser')\n",
    "        \n",
    "        # Find all comment sections\n",
    "        comment_sections = soup.find_all('yt-formatted-string', {'id': 'content-text'})\n",
    "        \n",
    "        # Extract and print the text of each comment\n",
    "        for comment in comment_sections:\n",
    "            print(comment.text)\n",
    "    else:\n",
    "        print(f\"Failed to retrieve video page. Status code: {response.status_code}\")\n",
    "\n",
    "# Replace this with the URL of the video you want to scrape\n",
    "video_url = \"https://www.youtube.com/watch?v=47phcA27M14\"\n",
    "scrape_youtube_comments(video_url)"
   ]
  },
  {
   "cell_type": "code",
   "execution_count": null,
   "metadata": {},
   "outputs": [],
   "source": [
    "response = requests.get(video_url)"
   ]
  },
  {
   "cell_type": "code",
   "execution_count": null,
   "metadata": {},
   "outputs": [],
   "source": [
    "soup = BeautifulSoup(response.text, 'html.parser')"
   ]
  }
 ],
 "metadata": {
  "kernelspec": {
   "display_name": "Python 3",
   "language": "python",
   "name": "python3"
  },
  "language_info": {
   "codemirror_mode": {
    "name": "ipython",
    "version": 3
   },
   "file_extension": ".py",
   "mimetype": "text/x-python",
   "name": "python",
   "nbconvert_exporter": "python",
   "pygments_lexer": "ipython3",
   "version": "3.11.4"
  },
  "orig_nbformat": 4
 },
 "nbformat": 4,
 "nbformat_minor": 2
}
